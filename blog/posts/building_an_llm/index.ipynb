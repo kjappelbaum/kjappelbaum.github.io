{
 "cells": [
  {
   "cell_type": "markdown",
   "metadata": {},
   "source": [
    "---\n",
    "title: 'Building a GPT that can generate molecules from scratch'\n",
    "description: <i>Developing an understanding for how LLMs work.</i>\n",
    "image: \"\"\n",
    "sidebar: false\n",
    "categories:\n",
    "  - machine-learning\n",
    "  - llm\n",
    "date: \"5/2/2024\"\n",
    "format:\n",
    "  html:\n",
    "    code-tools: true\n",
    "---\n"
   ]
  },
  {
   "cell_type": "markdown",
   "metadata": {},
   "source": [
    "Molecules can be represented in multitude of ways. \n",
    "One of the most widely used representations is to use text, for example in the so-called SMILES notation.\n",
    "In SMILES notation, a molecule is represented as a string of characters, where each character represents an atom or a bond.\n",
    "For example, the SMILES notation for ethanol is `CCO`. The one for benzene is `c1ccccc1`. You see that hydrogen atoms are typically omitted in SMILES notation, and that lower case letters are used for aromatic atoms. \n",
    "There is a [full grammar for SMILES notation](http://opensmiles.org/opensmiles.html) and [various alternative representations](https://www.cell.com/patterns/pdf/S2666-3899(22)00206-9.pdf), but we will stick to this simple version for this notebook."
   ]
  },
  {
   "cell_type": "markdown",
   "metadata": {
    "vscode": {
     "languageId": "plaintext"
    }
   },
   "source": [
    "Important problems that our final solution will need to be able to solve are: \n",
    "\n",
    "- dealing with inputs of different lengths (e.g, different number of atoms in different molecules)\n",
    "- incorporating information about the semantic meaning of the atoms in the molecule (to obtain meaningful molecules, the model, e.g., should probably \"know\" what kind of bonds carbon can form)\n",
    "- dealing with the interaction between atoms in the molecule (not all arrangements of atoms are equally likely)"
   ]
  },
  {
   "cell_type": "code",
   "execution_count": 121,
   "metadata": {},
   "outputs": [],
   "source": [
    "import pandas as pd \n",
    "from rdkit import Chem\n",
    "from torch import nn\n",
    "import torch.nn.functional as F\n",
    "from torch.utils.data import Dataset, DataLoader\n",
    "import re \n",
    "from typing import List\n",
    "import numpy as np \n",
    "from math import exp\n",
    "import matplotlib.pyplot as plt"
   ]
  },
  {
   "cell_type": "code",
   "execution_count": 48,
   "metadata": {},
   "outputs": [],
   "source": [
    "import torch\n",
    "def get_num_parameters(model):\n",
    "    \"\"\"Return the number of trainable parameters in the model.\"\"\"\n",
    "    return sum(p.numel() for p in model.parameters() if p.requires_grad)\n",
    "\n",
    "def get_num_parameters_per_layer(model):\n",
    "    \"\"\"Return the number of trainable parameters in the model per layer.\"\"\"\n",
    "    layers = {}\n",
    "    for name, p in model.named_parameters():\n",
    "        if p.requires_grad:\n",
    "            layers[name] = p.numel()\n",
    "    return layers\n",
    "\n",
    "\n",
    "def set_device():\n",
    "    if torch.backends.mps.is_available():\n",
    "        if torch.backends.mps.is_built():\n",
    "            device = 'mps'\n",
    "    elif torch.cuda.is_available():\n",
    "        device = 'cuda'\n",
    "    else:\n",
    "        device = 'cpu'\n",
    "    return device\n",
    "\n",
    "device = set_device()"
   ]
  },
  {
   "cell_type": "markdown",
   "metadata": {
    "vscode": {
     "languageId": "plaintext"
    }
   },
   "source": [
    "## Dealing with SMILES "
   ]
  },
  {
   "cell_type": "markdown",
   "metadata": {
    "vscode": {
     "languageId": "plaintext"
    }
   },
   "source": [
    "Before we can do anything, we need to obtain data.  For doing so, we will need a dataset of SMILES strings. We will use the [ZINC dataset](https://zinc.docking.org/) which is a public database of commercially-available compounds. We will use the `250k` subset of the dataset which contains 250,000 compounds. "
   ]
  },
  {
   "cell_type": "code",
   "execution_count": 6,
   "metadata": {},
   "outputs": [
    {
     "name": "stdout",
     "output_type": "stream",
     "text": [
      "/Users/kevinmaikjablonka/.zshenv:.:1: no such file or directory: /Users/kevinmaikjablonka/.cargo/env\n",
      "--2024-05-02 12:20:55--  https://deepchemdata.s3-us-west-1.amazonaws.com/datasets/zinc15_250K_2D.tar.gz\n",
      "Resolving deepchemdata.s3-us-west-1.amazonaws.com (deepchemdata.s3-us-west-1.amazonaws.com)... 52.219.120.49, 52.219.120.145, 52.219.193.50, ...\n",
      "Connecting to deepchemdata.s3-us-west-1.amazonaws.com (deepchemdata.s3-us-west-1.amazonaws.com)|52.219.120.49|:443... connected.\n",
      "HTTP request sent, awaiting response... 200 OK\n",
      "Length: 6941580 (6.6M) [application/x-gzip]\n",
      "Saving to: ‘zinc15_250K_2D.tar.gz’\n",
      "\n",
      "zinc15_250K_2D.tar. 100%[===================>]   6.62M  1.25MB/s    in 14s     \n",
      "\n",
      "2024-05-02 12:21:11 (497 KB/s) - ‘zinc15_250K_2D.tar.gz’ saved [6941580/6941580]\n",
      "\n",
      "/Users/kevinmaikjablonka/.zshenv:.:1: no such file or directory: /Users/kevinmaikjablonka/.cargo/env\n"
     ]
    }
   ],
   "source": [
    "!wget 'https://deepchemdata.s3-us-west-1.amazonaws.com/datasets/zinc15_250K_2D.tar.gz'\n",
    "!tar -xzf zinc15_250K_2D.tar.gz"
   ]
  },
  {
   "cell_type": "markdown",
   "metadata": {},
   "source": [
    "After downloading and extracting the dataset, we can load it into memory and take a look at some molecules."
   ]
  },
  {
   "cell_type": "code",
   "execution_count": 19,
   "metadata": {},
   "outputs": [],
   "source": [
    "df = pd.read_csv('zinc15_250K_2D.csv')"
   ]
  },
  {
   "cell_type": "code",
   "execution_count": 20,
   "metadata": {},
   "outputs": [
    {
     "data": {
      "image/png": "[encoded data removed]",
      "text/plain": [
       "<rdkit.Chem.rdchem.Mol at 0x14f2af140>"
      ]
     },
     "execution_count": 20,
     "metadata": {},
     "output_type": "execute_result"
    }
   ],
   "source": [
    "Chem.MolFromSmiles(df['smiles'][0])"
   ]
  },
  {
   "cell_type": "markdown",
   "metadata": {},
   "source": [
    "Before we continue any further, we will also create train/valid and test sets."
   ]
  },
  {
   "cell_type": "code",
   "execution_count": 21,
   "metadata": {},
   "outputs": [],
   "source": [
    "train, valid, test = torch.utils.data.random_split(df['smiles'], [200000, 25000, 25000])"
   ]
  },
  {
   "cell_type": "markdown",
   "metadata": {},
   "source": [
    "### Tokenization"
   ]
  },
  {
   "cell_type": "markdown",
   "metadata": {},
   "source": [
    "For training a language model, we will need to split the SMILES into tokens. Tokens are the smallest units of text that the model will work with.\n",
    "The model will learn to predict a molecule token by token.\n",
    "There is not one correct way to do this, but one very common way is to split the SMILES into \"chemical tokens\". For this, [Philippe Schwaller wrote down a regular expression](https://pubs.rsc.org/en/content/articlelanding/2018/sc/c8sc02339e).\n",
    "\n",
    "Commonly used other tokenization methods are:\n",
    "\n",
    "- [SentencePiece](https://github.com/google/sentencepiece)\n",
    "- [Byte-Pair Encoding (BPE)](https://github.com/openai/tiktoken)\n",
    "\n",
    "::: {.callout-note}\n",
    "Some try to move completely away from tokenization and [directly](https://byte-gpt.github.io/) [model](https://www.youtube.com/watch?v=kcd0BTKJuXk) [bytes](https://arxiv.org/abs/2105.13626).\n",
    ":::"
   ]
  },
  {
   "cell_type": "code",
   "execution_count": 22,
   "metadata": {},
   "outputs": [],
   "source": [
    "def tokenize(smiles: str) -> List[str]:\n",
    "    \"\"\"\n",
    "    Tokenize a SMILES\n",
    "\n",
    "    Args:\n",
    "        smiles (str): SMILES string\n",
    "    \n",
    "    Returns:\n",
    "        List[str]: List of tokens\n",
    "    \"\"\"\n",
    "    SMI_REGEX_PATTERN = r\"\"\"(\\[[^\\]]+]|Br?|Cl?|N|O|S|P|F|I|b|c|n|o|s|p|\\(|\\)|\\.|=|#|-|\\+|\\\\|\\/|:|~|@|\\?|>>?|\\*|\\$|\\%[0-9]{2}|[0-9])\"\"\"\n",
    "    \n",
    "    return re.findall(SMI_REGEX_PATTERN, smiles)"
   ]
  },
  {
   "cell_type": "markdown",
   "metadata": {},
   "source": [
    "The molecule, CCO (ethanol), is tokenized as ['C', 'C', 'O']."
   ]
  },
  {
   "cell_type": "code",
   "execution_count": 23,
   "metadata": {},
   "outputs": [
    {
     "data": {
      "text/plain": [
       "['C', 'C', 'O']"
      ]
     },
     "execution_count": 23,
     "metadata": {},
     "output_type": "execute_result"
    }
   ],
   "source": [
    "tokenize('CCO')"
   ]
  },
  {
   "cell_type": "markdown",
   "metadata": {},
   "source": [
    "#### Converting tokens into IDs"
   ]
  },
  {
   "cell_type": "markdown",
   "metadata": {},
   "source": [
    "For inputing tokens into a model, we will need to convert them into numbers.\n",
    "\n",
    "To do so, we will set up a \"vocabulary\" which is a dictionary that maps tokens to integers.\n",
    "The vocabulary also defines the tokens that are known to the model. "
   ]
  },
  {
   "cell_type": "markdown",
   "metadata": {},
   "source": [
    "#### Special tokens\n",
    "\n",
    "Our model will be fed sequences of fixed length. Our SMILES, however, are of variable length. \n",
    "We will have to pad them to a fixed length. We will use a padding token for this purpose. \n",
    "That is, we will add a specific \"[PAD]\" token to the vocabulary which only serves the purpose of padding.\n",
    "\n",
    "Often, we also add other tokens such as `[EOS]` (end of sequence) or `[BOS]` (beginning of sequence).\n",
    "\n",
    "They are typically used as follows:\n",
    "\n",
    "- `[BOS]` is added at the beginning of each sequence\n",
    "- `[EOS]` is added at the end of each sequence\n",
    "- `[PAD]` is added to the end of each sequence to pad it to a fixed length\n",
    "- `[UNK]` is used to replace tokens that are not in the vocabulary\n"
   ]
  },
  {
   "cell_type": "markdown",
   "metadata": {},
   "source": [
    "We can put all of this together in a `Tokenizer` class."
   ]
  },
  {
   "cell_type": "code",
   "execution_count": 38,
   "metadata": {},
   "outputs": [],
   "source": [
    "class Tokenizer:\n",
    "    def __init__(self, tokens: List[str], eos: str = '[EOS]', bos: str = '[BOS]', pad: str = '[PAD]', unk: str = '[UNK]'):\n",
    "        self.tokens = [pad, bos, eos, unk] + tokens\n",
    "        self._token_to_index = {token: index for index, token in enumerate(self.tokens)}\n",
    "        self.index_to_token = {index: token for index, token in enumerate(self.tokens)}\n",
    "\n",
    "    def token_to_index(self, token: str) -> int:\n",
    "        try:\n",
    "            return self._token_to_index[token]\n",
    "        except KeyError:\n",
    "            return self._token_to_index['[UNK]']\n",
    "        \n",
    "    def __len__(self):\n",
    "        return len(self.tokens)\n",
    "    \n",
    "    def __getitem__(self, item):\n",
    "        return self.token_to_index[item]\n",
    "    \n",
    "    def __contains__(self, item):\n",
    "        return item in self.tokens\n",
    "\n",
    "    def encode(self, smiles: str, add_sos: bool=False, add_eos: bool=False) -> List[int]:\n",
    "        \"\"\"\n",
    "        Encode a SMILES into a list of indices\n",
    "\n",
    "        Args:\n",
    "            smiles (str): SMILES string\n",
    "            add_sos (bool): Add start of sentence token\n",
    "            add_eos (bool): Add end of sentence token\n",
    "\n",
    "        Returns:\n",
    "            List[int]: List of indices\n",
    "        \"\"\"\n",
    "        tokens = []\n",
    "        if add_sos:\n",
    "            tokens.append(self.token_to_index('[BOS]'))\n",
    "        tokens += [self.token_to_index(token) for token in tokenize(smiles)]\n",
    "        if add_eos:\n",
    "            tokens.append(self.token_to_index('[EOS]'))\n",
    "        return tokens\n",
    "    \n",
    "    def decode(self, indices: List[int], strip_special_tokens: bool = True) -> str: \n",
    "        \"\"\"\n",
    "        Decode a list of indices into a SMILES\n",
    "\n",
    "        Args:\n",
    "            indices (List[int]): List of indices\n",
    "        \n",
    "        Returns:\n",
    "            str: SMILES string\n",
    "        \"\"\"\n",
    "        decoded = ''.join([self.index_to_token[index] for index in indices])\n",
    "        if strip_special_tokens:\n",
    "            return decoded.replace('[PAD]', '').replace('[BOS]', '').replace('[EOS]', '')\n",
    "        return decoded"
   ]
  },
  {
   "cell_type": "markdown",
   "metadata": {},
   "source": [
    "To instantiate the tokenizer, we need to pass the list of tokens that we want to use. (This is sometimes called \"training\" the tokenizer, but in this case, we are just defining the tokens that we want to use.)\n",
    "We will use the following tokens:"
   ]
  },
  {
   "cell_type": "code",
   "execution_count": 119,
   "metadata": {},
   "outputs": [],
   "source": [
    "tokens = set()\n",
    "lengths = []\n",
    "for smiles in train.dataset.values:\n",
    "    tokens_ = tokenize(smiles)\n",
    "    tokens.update(tokens_)\n",
    "    lengths.append(len(tokens_))\n"
   ]
  },
  {
   "cell_type": "code",
   "execution_count": 122,
   "metadata": {},
   "outputs": [
    {
     "data": {
      "text/plain": [
       "(array([3.0000e+00, 4.0000e+00, 7.0000e+00, 0.0000e+00, 2.3000e+01,\n",
       "        5.6000e+01, 0.0000e+00, 7.8000e+01, 2.0100e+02, 0.0000e+00,\n",
       "        3.8900e+02, 8.0200e+02, 1.4320e+03, 0.0000e+00, 2.5760e+03,\n",
       "        3.9450e+03, 0.0000e+00, 5.8570e+03, 8.0820e+03, 0.0000e+00,\n",
       "        1.0313e+04, 1.2675e+04, 1.4914e+04, 0.0000e+00, 1.7137e+04,\n",
       "        1.8718e+04, 0.0000e+00, 2.0510e+04, 2.0796e+04, 0.0000e+00,\n",
       "        2.1073e+04, 2.0330e+04, 1.8396e+04, 0.0000e+00, 1.6193e+04,\n",
       "        1.2172e+04, 0.0000e+00, 9.8210e+03, 5.8470e+03, 0.0000e+00,\n",
       "        3.9460e+03, 2.1220e+03, 9.6800e+02, 0.0000e+00, 4.1200e+02,\n",
       "        1.4500e+02, 0.0000e+00, 4.6000e+01, 1.0000e+01, 1.0000e+00]),\n",
       " array([17. , 17.7, 18.4, 19.1, 19.8, 20.5, 21.2, 21.9, 22.6, 23.3, 24. ,\n",
       "        24.7, 25.4, 26.1, 26.8, 27.5, 28.2, 28.9, 29.6, 30.3, 31. , 31.7,\n",
       "        32.4, 33.1, 33.8, 34.5, 35.2, 35.9, 36.6, 37.3, 38. , 38.7, 39.4,\n",
       "        40.1, 40.8, 41.5, 42.2, 42.9, 43.6, 44.3, 45. , 45.7, 46.4, 47.1,\n",
       "        47.8, 48.5, 49.2, 49.9, 50.6, 51.3, 52. ]),\n",
       " <BarContainer object of 50 artists>)"
      ]
     },
     "execution_count": 122,
     "metadata": {},
     "output_type": "execute_result"
    },
    {
     "data": {
      "image/png": "[encoded data removed]",
      "text/plain": [
       "<Figure size 640x480 with 1 Axes>"
      ]
     },
     "metadata": {},
     "output_type": "display_data"
    }
   ],
   "source": [
    "plt.hist(lengths, bins=50)"
   ]
  },
  {
   "cell_type": "code",
   "execution_count": 39,
   "metadata": {},
   "outputs": [],
   "source": [
    "tokenizer = Tokenizer(list(tokens))"
   ]
  },
  {
   "cell_type": "code",
   "execution_count": 40,
   "metadata": {},
   "outputs": [
    {
     "data": {
      "text/plain": [
       "[45, 45, 38]"
      ]
     },
     "execution_count": 40,
     "metadata": {},
     "output_type": "execute_result"
    }
   ],
   "source": [
    "tokenizer.encode('CCO')"
   ]
  },
  {
   "cell_type": "markdown",
   "metadata": {},
   "source": [
    "### Embeddings"
   ]
  },
  {
   "cell_type": "markdown",
   "metadata": {},
   "source": [
    "Currently, we only encode the SMILES strings into a list of indices. \n",
    "There is no inherent meaning to the indices themselves, and we can improve modeling by representing each index as a vector. \n",
    "We call those vectors embeddings, but they are nothing more than a vector representation--like a feature vector--for each index.\n",
    "\n",
    "Ideally, those vectors ensure that similar indices are close to each other in the embedding space.\n",
    "There are many ways to create those embeddings. But for now it is only important to know this concept."
   ]
  },
  {
   "cell_type": "markdown",
   "metadata": {},
   "source": [
    "### Positional encoding"
   ]
  },
  {
   "cell_type": "markdown",
   "metadata": {},
   "source": [
    "The embeddings we just created contain only information about their identity. \n",
    "However, they contain no information about their position in the sequence.\n",
    "\n",
    "To add positional information, we can add a positional encoding to the embeddings. Again, there are many ways to do this.\n",
    "\n",
    "A very simple way is called _absolute positional encoding_. For this we simply add the position index to the embedding vector.\n",
    "\n",
    "For example \n",
    "\n",
    "```python\n",
    "B, T, C = 2, 3, 4 # batch size, sequence length, embedding size\n",
    "x = torch.rand(B, T, C)\n",
    "pos = torch.arange(T).unsqueeze(0).repeat(B, 1)\n",
    "```"
   ]
  },
  {
   "cell_type": "markdown",
   "metadata": {},
   "source": [
    "### Language modeling dataset\n",
    "\n",
    "A dataset class is a class that inherits from `torch.utils.data.Dataset`. It is used to load data into a model.\n",
    "\n",
    "The most important methods of a dataset class are:\n",
    "\n",
    "- `__len__`: This method returns the length of the dataset. It is used by the `DataLoader` to determine how many batches to load.\n",
    "- `__getitem__`: This method returns a single sample from the dataset. It is used by the `DataLoader` to load a batch of samples."
   ]
  },
  {
   "cell_type": "code",
   "execution_count": 155,
   "metadata": {},
   "outputs": [],
   "source": [
    "class CausalLanguageModelingDataset(Dataset):\n",
    "    def __init__(self, texts, tokenizer, max_length):\n",
    "        self.tokenizer = tokenizer\n",
    "        self.texts = texts\n",
    "        self.max_length = max_length\n",
    "        self.inputs = []\n",
    "        self.targets = []\n",
    "\n",
    "        for text in texts:\n",
    "            input_ids = np.array(tokenizer.encode(text))\n",
    "            # make next token the target create datasets with sliding windows\n",
    "            if len(input_ids) < max_length:\n",
    "                for i in range(1, len(input_ids)):\n",
    "                    self.inputs.append(input_ids[:i])\n",
    "                    self.targets.append([input_ids[i]])\n",
    "\n",
    "    def __len__(self):\n",
    "        return len(self.inputs)\n",
    "\n",
    "    def __getitem__(self, idx):\n",
    "        input_ids = self.inputs[idx]\n",
    "        target_ids = self.targets[idx]\n",
    "\n",
    "        # Padding input and target\n",
    "        input_ids = self._pad(input_ids, self.max_length)\n",
    "        target_ids = self._pad(target_ids, self.max_length, pad_value=-100)  # -100 is often used to ignore loss calculation\n",
    "\n",
    "        return  torch.tensor(input_ids, dtype=torch.long), torch.tensor(target_ids, dtype=torch.long)\n",
    "    \n",
    "\n",
    "    def _pad(self, sequence, max_len, pad_value=0):\n",
    "        padded_sequence = np.full(max_len, pad_value)\n",
    "        padded_sequence[:len(sequence)] = sequence\n",
    "        return padded_sequence\n"
   ]
  },
  {
   "cell_type": "markdown",
   "metadata": {},
   "source": [
    "You hopefully note something very interesting in this dataset: Based on one SMILES, we can create multiple training examples, because we can slide a window over the SMILES and predict the next token.  (Note that our implementation is relatively naiive and is optimized to make this point clear. In practice, you should use dedicated methods, e.g., from the `transformers` library, to create language model datasets.)"
   ]
  },
  {
   "cell_type": "markdown",
   "metadata": {},
   "source": [
    "## A simple bigram model"
   ]
  },
  {
   "cell_type": "markdown",
   "metadata": {},
   "source": [
    "The simplest language model is a bigram model. In a bigram model, we predict the next token based on the previous token.\n",
    "A bigram model is the simplest form of `n-gram` model. In an `n-gram` model, we predict the next token based on the previous `n` tokens.\n",
    "\n",
    "$N$-gram models are a simple but effective way to model language. The idea is to predict the next word in a sentence given the previous $n-1$ words. For example, in a 2-gram (bigram) model, we would predict the next word given only the previous word. In a 3-gram model, we would predict the next word given the previous two words. In general, we would predict the next word given the previous $n-1$ words.\n",
    "\n",
    "Formally, we can write down the bigram model as follows:\n",
    "\n",
    "$$\n",
    "p(w_i|w_{i-1}) = \\frac{C(w_{i-1}, w_i)}{C(w_{i-1})}\n",
    "$$\n",
    "\n",
    "where $w_i$ is the $i$-th word in the sentence, $C(w_{i-1}, w_i)$ is the number of times the bigram $w_{i-1}, w_i$ occurs in the training set, and $C(w_{i-1})$ is the number of times the word $w_{i-1}$ occurs in the training set."
   ]
  },
  {
   "cell_type": "markdown",
   "metadata": {},
   "source": [
    "Since the bigram model only considers the previous word/token, we only need a lookup table. \n",
    "\n",
    "Such lookup tables are implemented in PyTorch as `nn.Embedding`. Keep in mind that an embedding layer is nothing fancy. It works like inputting a one-hot encoded vector in a linear layer:\n",
    "\n",
    "\n",
    "![](https://pbs.twimg.com/media/FlzZE_dWIAEKnAW?format=jpg&name=medium)"
   ]
  },
  {
   "cell_type": "markdown",
   "metadata": {},
   "source": [
    "Using the `Embedding` layer, we can create a simple Bigram model. "
   ]
  },
  {
   "cell_type": "code",
   "execution_count": 156,
   "metadata": {},
   "outputs": [],
   "source": [
    "class BigramModel(nn.Module):\n",
    "    def __init__(self, vocab_size: int = 40):\n",
    "        super().__init__()\n",
    "        # \"learnable dictionary\" that maps one token to another token\n",
    "        self.mapping_layer = nn.Embedding(vocab_size, vocab_size)\n",
    "\n",
    "    def forward(self, x: torch.Tensor) -> torch.Tensor:\n",
    "        # the forward pass only consists of a lookup in the mapping layer\n",
    "        return self.mapping_layer(x)\n",
    "    \n",
    "    def loss(self, x, y): \n",
    "        # x has shape (batch_size, sequence_length)\n",
    "        predictions = self.forward(x)\n",
    "        B, T, C = predictions.shape\n",
    "        \n",
    "        # predictions has shape (batch_size, sequence_length, vocab_size)\n",
    "        predictions = predictions.view(B*T, C)\n",
    "        \n",
    "        # y has the shape (batch_size, sequence_length)\n",
    "        y = y.view(B*T)\n",
    "\n",
    "        # we use cross entropy loss to train the model\n",
    "        return F.cross_entropy(predictions, y)\n"
   ]
  },
  {
   "cell_type": "code",
   "execution_count": 157,
   "metadata": {},
   "outputs": [],
   "source": [
    "bigram = BigramModel(10)"
   ]
  },
  {
   "cell_type": "markdown",
   "metadata": {},
   "source": [
    "Given a token ID, the model predict how likely each token of the vocabulary is to be the next. Right now, the model is not trained, so it will predict the next token randomly."
   ]
  },
  {
   "cell_type": "code",
   "execution_count": 158,
   "metadata": {},
   "outputs": [
    {
     "name": "stderr",
     "output_type": "stream",
     "text": [
      "/var/folders/m9/_txh68y946s4pxy1x2wnd3lh0000gn/T/ipykernel_51170/730608109.py:1: UserWarning: Implicit dimension choice for softmax has been deprecated. Change the call to include dim=X as an argument.\n",
      "  F.softmax(bigram(torch.tensor([1])))\n"
     ]
    },
    {
     "data": {
      "text/plain": [
       "tensor([[0.1001, 0.0581, 0.2631, 0.0668, 0.0498, 0.0121, 0.0129, 0.1628, 0.0420,\n",
       "         0.2324]], grad_fn=<SoftmaxBackward0>)"
      ]
     },
     "execution_count": 158,
     "metadata": {},
     "output_type": "execute_result"
    }
   ],
   "source": [
    "F.softmax(bigram(torch.tensor([1])))"
   ]
  },
  {
   "cell_type": "markdown",
   "metadata": {},
   "source": [
    "For generating a sequence, we can implement a `generate` method that iteratively predicts the next token and appends it to the sequence. We can then use this method to generate a sequence of a given length."
   ]
  },
  {
   "cell_type": "code",
   "execution_count": 159,
   "metadata": {},
   "outputs": [],
   "source": [
    "class BigramModel(nn.Module):\n",
    "    def __init__(self, vocab_size):\n",
    "        super().__init__()\n",
    "        # read of the logits of the next token from table\n",
    "        self.mapping_table = nn.Embedding(vocab_size, vocab_size)\n",
    "\n",
    "    def forward(self, x):\n",
    "        # x is a tensor of shape (B, T)\n",
    "        return self.mapping_table(x) # returns tensor of shape (batch_size, time_steps, vocab_size)\n",
    "    \n",
    "    def loss(self, x, y):\n",
    "        # x is a tensor of shape (B, T)\n",
    "        logits = self.forward(x) # (B, T, C)\n",
    "        B, T, C = logits.shape\n",
    "        logits = logits.view(B*T, C)\n",
    "        y = y.view(B*T)\n",
    "        loss = F.cross_entropy(logits, y)\n",
    "        return loss\n",
    "    \n",
    "    def generate(self, x, max_new_tokens=100):\n",
    "        # x is a tensor of shape (B, T)\n",
    "        # we generate max_new_tokens new tokens\n",
    "        new_tokens = []\n",
    "        for _t in range(max_new_tokens):\n",
    "            logits = self.forward(x) # (B, T, C)\n",
    "            logits = logits[:, -1, :] # we only care about the last token in Bigram, hence we bow have shape (B, C)\n",
    "            probs = F.softmax(logits, dim=-1) # we generate probabilities for the next token\n",
    "\n",
    "            # torch.multinomial(probs, num_samples=1) returns a tensor of shape (B, 1) \n",
    "            # where each element is the index of the sampled token\n",
    "            next_token = torch.multinomial(probs, num_samples=1)\n",
    "            new_tokens.append(next_token)\n",
    "            x = torch.cat([x, next_token], dim=1)\n",
    "        return x\n",
    "        \n",
    "    "
   ]
  },
  {
   "cell_type": "markdown",
   "metadata": {},
   "source": [
    "To evaluate the model performance, we will use the helper function below.\n",
    "\n",
    "As performance metric we will use perplexity. Perplexity is a metric that measures how well a probability model predicts a sample. It is defined as $2^H$, where $H$ is the cross entropy loss. The lower the perplexity, the better the model.\n",
    "\n",
    "\n",
    "To better understand it, let's recall a few things: \n",
    "\n",
    "LLMs are trained to predict the probability of a word given the previous words. For instance, in the sentence \"She went to the...\", the model predicts the probability of what the next word could be (e.g., store, park, etc.).\n",
    "\n",
    "_Cross entropy_ is a measure of the difference between two probability distributions - in this case, the distribution predicted by the model and the actual distribution of words in the language. A lower cross-entropy means the model's predictions are closer to the actual distribution. We can calculate it as follows:\n",
    "\n",
    "$$H(p,q) = - \\sum_{x} p(x) \\log q(x)$$\n",
    "\n",
    "where $p$ is the actual distribution and $q$ is the predicted distribution. \n",
    "\n",
    "_Perplexity_ can be thought of as the \"effective number of choices\" the model feels it has when making a prediction. A lower perplexity indicates that the model is more confident (or less \"perplexed\") about its predictions.\n",
    "\n",
    "For example, if a model has a perplexity of 10 on a dataset, it means that, on average, each time it tries to predict the next word, it's as uncertain as if it were choosing uniformly and randomly among 10 options. If the perplexity is 100, it's as uncertain as if it were choosing among 100 options, and so on.\n",
    "\n",
    "You can find further information about such metrics [here](https://thegradient.pub/understanding-evaluation-metrics-for-language-models/)."
   ]
  },
  {
   "cell_type": "code",
   "execution_count": 160,
   "metadata": {},
   "outputs": [],
   "source": [
    "@torch.no_grad()\n",
    "def estimate_perplexity(model, data_loader):\n",
    "    # set the model to evaluation mode, i.e., \n",
    "    model.eval()\n",
    "    total_loss = 0\n",
    "    total_count = 0\n",
    "    for x, y in data_loader:\n",
    "        x = x.to(device)\n",
    "        y = y.to(device)\n",
    "        loss = model.loss(x, y)\n",
    "        total_loss += loss.item()\n",
    "        total_count += 1\n",
    "    return exp(total_loss / total_count)"
   ]
  },
  {
   "cell_type": "markdown",
   "metadata": {},
   "source": [
    "### Training the model\n",
    "\n",
    "To train the model, we will use a simple training loop and the Adam optimizer.\n",
    "\n",
    "The role of the `Adam` optimizer is to update the parameters of the model using a technique called [mini-batch stochastic gradient descent](http://d2l.ai/chapter_optimization/minibatch-sgd.html).\n",
    "The idea is that we update the weights in the direction of the gradient of the loss function, which we estimate on a small batch of data. The learning rate controls how big the steps are that we take in the direction of the gradient.\n",
    "\n",
    "Setting learning rate is not trivial, you can find more background [here](https://www.jeremyjordan.me/nn-learning-rate/).\n",
    "\n",
    "It is import to remember to use the `zero_grad` function to clear the gradients before computing the gradients for the current batch. Also, remember to call `loss.backward()` to compute the gradients for the current batch.\n",
    "\n",
    "For now, we will use a very simple approach (to reuse our old dataloader) and just predict the second token given the first one."
   ]
  },
  {
   "cell_type": "code",
   "execution_count": 161,
   "metadata": {},
   "outputs": [],
   "source": [
    "model = BigramModel(len(tokenizer))"
   ]
  },
  {
   "cell_type": "code",
   "execution_count": 162,
   "metadata": {},
   "outputs": [],
   "source": [
    "ds = CausalLanguageModelingDataset(train, tokenizer, max_length=40)"
   ]
  },
  {
   "cell_type": "code",
   "execution_count": 163,
   "metadata": {},
   "outputs": [],
   "source": [
    "train_loader = torch.utils.data.DataLoader(CausalLanguageModelingDataset(train, tokenizer, max_length=40), batch_size=2048, shuffle=True)\n",
    "valid_loader = torch.utils.data.DataLoader(CausalLanguageModelingDataset(valid, tokenizer, max_length=40), batch_size=2048)\n",
    "test_loader = torch.utils.data.DataLoader(CausalLanguageModelingDataset(test, tokenizer, max_length=40), batch_size=2048)"
   ]
  },
  {
   "cell_type": "code",
   "execution_count": 164,
   "metadata": {},
   "outputs": [],
   "source": [
    "def train_model(model, train_loader, val_loader, epochs, lr, eval_every=100):\n",
    "    # set up the optimizer\n",
    "    optimizer = torch.optim.Adam(model.parameters(), lr=lr)\n",
    "    model.to(device)\n",
    "    # start training\n",
    "    # set the model to train mode \n",
    "    model.train()\n",
    "    for epoch in range(epochs):\n",
    "\n",
    "\n",
    "        # iterate over the training data\n",
    "        for i, (x,y) in enumerate(train_loader):\n",
    "            # move the data to the device\n",
    "            x = x.to(device)\n",
    "            y = y.to(device)\n",
    "            loss = model.loss(x,y)\n",
    "            # clear the gradients\n",
    "            optimizer.zero_grad()\n",
    "            # compute the gradients\n",
    "            loss.backward()\n",
    "            # update the parameters\n",
    "            optimizer.step()\n",
    "\n",
    "            # print the loss every eval_every iterations\n",
    "            if i % eval_every == 0:\n",
    "                print(f\"Epoch {epoch}, iter {i}, train loss {loss.item():.3f}, val perplexity {estimate_perplexity(model, val_loader):.5f}\")"
   ]
  },
  {
   "cell_type": "code",
   "execution_count": 166,
   "metadata": {},
   "outputs": [
    {
     "name": "stdout",
     "output_type": "stream",
     "text": [
      "Epoch 0, iter 0, train loss 2.423, val perplexity 11.27392\n",
      "Epoch 0, iter 100, train loss 2.423, val perplexity 11.24984\n",
      "Epoch 0, iter 200, train loss 2.450, val perplexity 11.23007\n",
      "Epoch 0, iter 300, train loss 2.451, val perplexity 11.21351\n",
      "Epoch 0, iter 400, train loss 2.409, val perplexity 11.19960\n",
      "Epoch 0, iter 500, train loss 2.403, val perplexity 11.18782\n",
      "Epoch 0, iter 600, train loss 2.439, val perplexity 11.17740\n",
      "Epoch 0, iter 700, train loss 2.435, val perplexity 11.16857\n",
      "Epoch 0, iter 800, train loss 2.432, val perplexity 11.16064\n",
      "Epoch 0, iter 900, train loss 2.401, val perplexity 11.15376\n",
      "Epoch 0, iter 1000, train loss 2.436, val perplexity 11.14751\n",
      "Epoch 0, iter 1100, train loss 2.424, val perplexity 11.14243\n",
      "Epoch 0, iter 1200, train loss 2.365, val perplexity 11.13720\n",
      "Epoch 0, iter 1300, train loss 2.430, val perplexity 11.13270\n",
      "Epoch 0, iter 1400, train loss 2.396, val perplexity 11.12861\n",
      "Epoch 0, iter 1500, train loss 2.396, val perplexity 11.12477\n",
      "Epoch 0, iter 1600, train loss 2.427, val perplexity 11.12151\n",
      "Epoch 0, iter 1700, train loss 2.426, val perplexity 11.11855\n",
      "Epoch 0, iter 1800, train loss 2.407, val perplexity 11.11576\n",
      "Epoch 0, iter 1900, train loss 2.411, val perplexity 11.11314\n",
      "Epoch 0, iter 2000, train loss 2.409, val perplexity 11.11071\n",
      "Epoch 0, iter 2100, train loss 2.377, val perplexity 11.10836\n",
      "Epoch 0, iter 2200, train loss 2.414, val perplexity 11.10666\n",
      "Epoch 0, iter 2300, train loss 2.357, val perplexity 11.10495\n",
      "Epoch 1, iter 0, train loss 2.400, val perplexity 11.10374\n",
      "Epoch 1, iter 100, train loss 2.430, val perplexity 11.10187\n",
      "Epoch 1, iter 200, train loss 2.392, val perplexity 11.10039\n",
      "Epoch 1, iter 300, train loss 2.418, val perplexity 11.09890\n",
      "Epoch 1, iter 400, train loss 2.378, val perplexity 11.09767\n",
      "Epoch 1, iter 500, train loss 2.423, val perplexity 11.09650\n",
      "Epoch 1, iter 600, train loss 2.390, val perplexity 11.09533\n",
      "Epoch 1, iter 700, train loss 2.440, val perplexity 11.09407\n",
      "Epoch 1, iter 800, train loss 2.397, val perplexity 11.09331\n",
      "Epoch 1, iter 900, train loss 2.408, val perplexity 11.09244\n",
      "Epoch 1, iter 1000, train loss 2.397, val perplexity 11.09115\n",
      "Epoch 1, iter 1100, train loss 2.422, val perplexity 11.09047\n",
      "Epoch 1, iter 1200, train loss 2.382, val perplexity 11.08941\n",
      "Epoch 1, iter 1300, train loss 2.411, val perplexity 11.08896\n",
      "Epoch 1, iter 1400, train loss 2.390, val perplexity 11.08832\n",
      "Epoch 1, iter 1500, train loss 2.410, val perplexity 11.08726\n",
      "Epoch 1, iter 1600, train loss 2.423, val perplexity 11.08663\n",
      "Epoch 1, iter 1700, train loss 2.394, val perplexity 11.08610\n",
      "Epoch 1, iter 1800, train loss 2.411, val perplexity 11.08553\n",
      "Epoch 1, iter 1900, train loss 2.418, val perplexity 11.08504\n",
      "Epoch 1, iter 2000, train loss 2.438, val perplexity 11.08430\n",
      "Epoch 1, iter 2100, train loss 2.403, val perplexity 11.08389\n",
      "Epoch 1, iter 2200, train loss 2.378, val perplexity 11.08335\n",
      "Epoch 1, iter 2300, train loss 2.429, val perplexity 11.08304\n",
      "Epoch 2, iter 0, train loss 2.378, val perplexity 11.08273\n",
      "Epoch 2, iter 100, train loss 2.423, val perplexity 11.08241\n",
      "Epoch 2, iter 200, train loss 2.419, val perplexity 11.08202\n",
      "Epoch 2, iter 300, train loss 2.398, val perplexity 11.08176\n",
      "Epoch 2, iter 400, train loss 2.420, val perplexity 11.08122\n",
      "Epoch 2, iter 500, train loss 2.402, val perplexity 11.08099\n",
      "Epoch 2, iter 600, train loss 2.436, val perplexity 11.08070\n",
      "Epoch 2, iter 700, train loss 2.400, val perplexity 11.08106\n",
      "Epoch 2, iter 800, train loss 2.416, val perplexity 11.08027\n",
      "Epoch 2, iter 900, train loss 2.390, val perplexity 11.07992\n",
      "Epoch 2, iter 1000, train loss 2.407, val perplexity 11.07969\n",
      "Epoch 2, iter 1100, train loss 2.386, val perplexity 11.07925\n",
      "Epoch 2, iter 1200, train loss 2.395, val perplexity 11.07893\n",
      "Epoch 2, iter 1300, train loss 2.376, val perplexity 11.07876\n",
      "Epoch 2, iter 1400, train loss 2.401, val perplexity 11.07871\n",
      "Epoch 2, iter 1500, train loss 2.429, val perplexity 11.07836\n",
      "Epoch 2, iter 1600, train loss 2.416, val perplexity 11.07817\n",
      "Epoch 2, iter 1700, train loss 2.439, val perplexity 11.07803\n",
      "Epoch 2, iter 1800, train loss 2.391, val perplexity 11.07777\n",
      "Epoch 2, iter 1900, train loss 2.381, val perplexity 11.07781\n",
      "Epoch 2, iter 2000, train loss 2.407, val perplexity 11.07774\n",
      "Epoch 2, iter 2100, train loss 2.435, val perplexity 11.07758\n",
      "Epoch 2, iter 2200, train loss 2.383, val perplexity 11.07733\n",
      "Epoch 2, iter 2300, train loss 2.400, val perplexity 11.07734\n",
      "Epoch 3, iter 0, train loss 2.390, val perplexity 11.07707\n",
      "Epoch 3, iter 100, train loss 2.398, val perplexity 11.07696\n",
      "Epoch 3, iter 200, train loss 2.441, val perplexity 11.07689\n",
      "Epoch 3, iter 300, train loss 2.399, val perplexity 11.07688\n",
      "Epoch 3, iter 400, train loss 2.420, val perplexity 11.07665\n",
      "Epoch 3, iter 500, train loss 2.395, val perplexity 11.07644\n",
      "Epoch 3, iter 600, train loss 2.426, val perplexity 11.07636\n",
      "Epoch 3, iter 700, train loss 2.449, val perplexity 11.07612\n",
      "Epoch 3, iter 800, train loss 2.417, val perplexity 11.07598\n",
      "Epoch 3, iter 900, train loss 2.389, val perplexity 11.07603\n",
      "Epoch 3, iter 1000, train loss 2.426, val perplexity 11.07601\n",
      "Epoch 3, iter 1100, train loss 2.423, val perplexity 11.07572\n",
      "Epoch 3, iter 1200, train loss 2.434, val perplexity 11.07570\n",
      "Epoch 3, iter 1300, train loss 2.377, val perplexity 11.07568\n",
      "Epoch 3, iter 1400, train loss 2.378, val perplexity 11.07571\n",
      "Epoch 3, iter 1500, train loss 2.435, val perplexity 11.07559\n",
      "Epoch 3, iter 1600, train loss 2.398, val perplexity 11.07552\n",
      "Epoch 3, iter 1700, train loss 2.414, val perplexity 11.07518\n",
      "Epoch 3, iter 1800, train loss 2.446, val perplexity 11.07560\n",
      "Epoch 3, iter 1900, train loss 2.428, val perplexity 11.07523\n",
      "Epoch 3, iter 2000, train loss 2.366, val perplexity 11.07503\n",
      "Epoch 3, iter 2100, train loss 2.383, val perplexity 11.07526\n",
      "Epoch 3, iter 2200, train loss 2.390, val perplexity 11.07514\n",
      "Epoch 3, iter 2300, train loss 2.402, val perplexity 11.07514\n",
      "Epoch 4, iter 0, train loss 2.370, val perplexity 11.07506\n",
      "Epoch 4, iter 100, train loss 2.403, val perplexity 11.07501\n",
      "Epoch 4, iter 200, train loss 2.414, val perplexity 11.07492\n",
      "Epoch 4, iter 300, train loss 2.422, val perplexity 11.07469\n",
      "Epoch 4, iter 400, train loss 2.414, val perplexity 11.07477\n",
      "Epoch 4, iter 500, train loss 2.403, val perplexity 11.07465\n",
      "Epoch 4, iter 600, train loss 2.389, val perplexity 11.07464\n",
      "Epoch 4, iter 700, train loss 2.437, val perplexity 11.07466\n",
      "Epoch 4, iter 800, train loss 2.404, val perplexity 11.07462\n",
      "Epoch 4, iter 900, train loss 2.418, val perplexity 11.07511\n",
      "Epoch 4, iter 1000, train loss 2.412, val perplexity 11.07476\n",
      "Epoch 4, iter 1100, train loss 2.438, val perplexity 11.07460\n",
      "Epoch 4, iter 1200, train loss 2.395, val perplexity 11.07443\n",
      "Epoch 4, iter 1300, train loss 2.434, val perplexity 11.07437\n",
      "Epoch 4, iter 1400, train loss 2.412, val perplexity 11.07436\n",
      "Epoch 4, iter 1500, train loss 2.421, val perplexity 11.07439\n",
      "Epoch 4, iter 1600, train loss 2.369, val perplexity 11.07436\n",
      "Epoch 4, iter 1700, train loss 2.418, val perplexity 11.07475\n",
      "Epoch 4, iter 1800, train loss 2.354, val perplexity 11.07431\n",
      "Epoch 4, iter 1900, train loss 2.388, val perplexity 11.07455\n",
      "Epoch 4, iter 2000, train loss 2.445, val perplexity 11.07442\n",
      "Epoch 4, iter 2100, train loss 2.393, val perplexity 11.07426\n",
      "Epoch 4, iter 2200, train loss 2.396, val perplexity 11.07447\n",
      "Epoch 4, iter 2300, train loss 2.394, val perplexity 11.07444\n",
      "Epoch 5, iter 0, train loss 2.401, val perplexity 11.07427\n",
      "Epoch 5, iter 100, train loss 2.397, val perplexity 11.07452\n",
      "Epoch 5, iter 200, train loss 2.377, val perplexity 11.07429\n",
      "Epoch 5, iter 300, train loss 2.393, val perplexity 11.07454\n",
      "Epoch 5, iter 400, train loss 2.428, val perplexity 11.07433\n",
      "Epoch 5, iter 500, train loss 2.438, val perplexity 11.07406\n",
      "Epoch 5, iter 600, train loss 2.416, val perplexity 11.07414\n",
      "Epoch 5, iter 700, train loss 2.421, val perplexity 11.07419\n",
      "Epoch 5, iter 800, train loss 2.414, val perplexity 11.07401\n",
      "Epoch 5, iter 900, train loss 2.415, val perplexity 11.07403\n",
      "Epoch 5, iter 1000, train loss 2.387, val perplexity 11.07414\n",
      "Epoch 5, iter 1100, train loss 2.404, val perplexity 11.07418\n",
      "Epoch 5, iter 1200, train loss 2.386, val perplexity 11.07427\n",
      "Epoch 5, iter 1300, train loss 2.408, val perplexity 11.07411\n",
      "Epoch 5, iter 1400, train loss 2.402, val perplexity 11.07427\n",
      "Epoch 5, iter 1500, train loss 2.388, val perplexity 11.07399\n",
      "Epoch 5, iter 1600, train loss 2.361, val perplexity 11.07405\n",
      "Epoch 5, iter 1700, train loss 2.415, val perplexity 11.07392\n",
      "Epoch 5, iter 1800, train loss 2.406, val perplexity 11.07400\n",
      "Epoch 5, iter 1900, train loss 2.363, val perplexity 11.07389\n",
      "Epoch 5, iter 2000, train loss 2.409, val perplexity 11.07398\n",
      "Epoch 5, iter 2100, train loss 2.419, val perplexity 11.07407\n",
      "Epoch 5, iter 2200, train loss 2.401, val perplexity 11.07381\n",
      "Epoch 5, iter 2300, train loss 2.443, val perplexity 11.07387\n",
      "Epoch 6, iter 0, train loss 2.394, val perplexity 11.07407\n",
      "Epoch 6, iter 100, train loss 2.399, val perplexity 11.07425\n",
      "Epoch 6, iter 200, train loss 2.425, val perplexity 11.07410\n",
      "Epoch 6, iter 300, train loss 2.404, val perplexity 11.07376\n",
      "Epoch 6, iter 400, train loss 2.395, val perplexity 11.07368\n",
      "Epoch 6, iter 500, train loss 2.393, val perplexity 11.07375\n",
      "Epoch 6, iter 600, train loss 2.393, val perplexity 11.07386\n",
      "Epoch 6, iter 700, train loss 2.401, val perplexity 11.07404\n",
      "Epoch 6, iter 800, train loss 2.405, val perplexity 11.07393\n",
      "Epoch 6, iter 900, train loss 2.398, val perplexity 11.07418\n",
      "Epoch 6, iter 1000, train loss 2.397, val perplexity 11.07399\n",
      "Epoch 6, iter 1100, train loss 2.422, val perplexity 11.07403\n",
      "Epoch 6, iter 1200, train loss 2.398, val perplexity 11.07393\n",
      "Epoch 6, iter 1300, train loss 2.406, val perplexity 11.07402\n",
      "Epoch 6, iter 1400, train loss 2.392, val perplexity 11.07403\n",
      "Epoch 6, iter 1500, train loss 2.394, val perplexity 11.07424\n",
      "Epoch 6, iter 1600, train loss 2.396, val perplexity 11.07407\n",
      "Epoch 6, iter 1700, train loss 2.406, val perplexity 11.07427\n",
      "Epoch 6, iter 1800, train loss 2.396, val perplexity 11.07393\n",
      "Epoch 6, iter 1900, train loss 2.424, val perplexity 11.07386\n",
      "Epoch 6, iter 2000, train loss 2.421, val perplexity 11.07397\n",
      "Epoch 6, iter 2100, train loss 2.429, val perplexity 11.07394\n",
      "Epoch 6, iter 2200, train loss 2.393, val perplexity 11.07407\n",
      "Epoch 6, iter 2300, train loss 2.417, val perplexity 11.07399\n",
      "Epoch 7, iter 0, train loss 2.407, val perplexity 11.07377\n",
      "Epoch 7, iter 100, train loss 2.394, val perplexity 11.07395\n",
      "Epoch 7, iter 200, train loss 2.394, val perplexity 11.07392\n",
      "Epoch 7, iter 300, train loss 2.383, val perplexity 11.07387\n",
      "Epoch 7, iter 400, train loss 2.433, val perplexity 11.07381\n",
      "Epoch 7, iter 500, train loss 2.418, val perplexity 11.07386\n",
      "Epoch 7, iter 600, train loss 2.401, val perplexity 11.07383\n",
      "Epoch 7, iter 700, train loss 2.400, val perplexity 11.07368\n",
      "Epoch 7, iter 800, train loss 2.411, val perplexity 11.07384\n",
      "Epoch 7, iter 900, train loss 2.410, val perplexity 11.07378\n",
      "Epoch 7, iter 1000, train loss 2.439, val perplexity 11.07400\n",
      "Epoch 7, iter 1100, train loss 2.371, val perplexity 11.07381\n",
      "Epoch 7, iter 1200, train loss 2.412, val perplexity 11.07374\n",
      "Epoch 7, iter 1300, train loss 2.441, val perplexity 11.07380\n",
      "Epoch 7, iter 1400, train loss 2.392, val perplexity 11.07385\n",
      "Epoch 7, iter 1500, train loss 2.405, val perplexity 11.07381\n",
      "Epoch 7, iter 1600, train loss 2.407, val perplexity 11.07369\n",
      "Epoch 7, iter 1700, train loss 2.383, val perplexity 11.07384\n",
      "Epoch 7, iter 1800, train loss 2.426, val perplexity 11.07394\n",
      "Epoch 7, iter 1900, train loss 2.443, val perplexity 11.07384\n",
      "Epoch 7, iter 2000, train loss 2.376, val perplexity 11.07398\n",
      "Epoch 7, iter 2100, train loss 2.409, val perplexity 11.07385\n",
      "Epoch 7, iter 2200, train loss 2.367, val perplexity 11.07380\n",
      "Epoch 7, iter 2300, train loss 2.399, val perplexity 11.07367\n",
      "Epoch 8, iter 0, train loss 2.386, val perplexity 11.07387\n",
      "Epoch 8, iter 100, train loss 2.381, val perplexity 11.07374\n",
      "Epoch 8, iter 200, train loss 2.396, val perplexity 11.07371\n",
      "Epoch 8, iter 300, train loss 2.392, val perplexity 11.07380\n",
      "Epoch 8, iter 400, train loss 2.420, val perplexity 11.07377\n",
      "Epoch 8, iter 500, train loss 2.441, val perplexity 11.07406\n",
      "Epoch 8, iter 600, train loss 2.419, val perplexity 11.07404\n",
      "Epoch 8, iter 700, train loss 2.389, val perplexity 11.07385\n",
      "Epoch 8, iter 800, train loss 2.408, val perplexity 11.07389\n",
      "Epoch 8, iter 900, train loss 2.401, val perplexity 11.07368\n",
      "Epoch 8, iter 1000, train loss 2.414, val perplexity 11.07393\n",
      "Epoch 8, iter 1100, train loss 2.361, val perplexity 11.07391\n",
      "Epoch 8, iter 1200, train loss 2.418, val perplexity 11.07373\n",
      "Epoch 8, iter 1300, train loss 2.409, val perplexity 11.07353\n",
      "Epoch 8, iter 1400, train loss 2.390, val perplexity 11.07358\n",
      "Epoch 8, iter 1500, train loss 2.424, val perplexity 11.07368\n",
      "Epoch 8, iter 1600, train loss 2.410, val perplexity 11.07357\n",
      "Epoch 8, iter 1700, train loss 2.414, val perplexity 11.07377\n",
      "Epoch 8, iter 1800, train loss 2.395, val perplexity 11.07365\n",
      "Epoch 8, iter 1900, train loss 2.383, val perplexity 11.07354\n",
      "Epoch 8, iter 2000, train loss 2.423, val perplexity 11.07377\n",
      "Epoch 8, iter 2100, train loss 2.426, val perplexity 11.07397\n",
      "Epoch 8, iter 2200, train loss 2.438, val perplexity 11.07389\n",
      "Epoch 8, iter 2300, train loss 2.393, val perplexity 11.07382\n",
      "Epoch 9, iter 0, train loss 2.384, val perplexity 11.07388\n",
      "Epoch 9, iter 100, train loss 2.395, val perplexity 11.07372\n",
      "Epoch 9, iter 200, train loss 2.444, val perplexity 11.07394\n",
      "Epoch 9, iter 300, train loss 2.444, val perplexity 11.07369\n",
      "Epoch 9, iter 400, train loss 2.405, val perplexity 11.07371\n",
      "Epoch 9, iter 500, train loss 2.368, val perplexity 11.07369\n",
      "Epoch 9, iter 600, train loss 2.388, val perplexity 11.07378\n",
      "Epoch 9, iter 700, train loss 2.405, val perplexity 11.07407\n",
      "Epoch 9, iter 800, train loss 2.410, val perplexity 11.07403\n",
      "Epoch 9, iter 900, train loss 2.427, val perplexity 11.07391\n",
      "Epoch 9, iter 1000, train loss 2.395, val perplexity 11.07363\n",
      "Epoch 9, iter 1100, train loss 2.413, val perplexity 11.07368\n",
      "Epoch 9, iter 1200, train loss 2.388, val perplexity 11.07374\n",
      "Epoch 9, iter 1300, train loss 2.412, val perplexity 11.07383\n",
      "Epoch 9, iter 1400, train loss 2.438, val perplexity 11.07379\n",
      "Epoch 9, iter 1500, train loss 2.410, val perplexity 11.07394\n",
      "Epoch 9, iter 1600, train loss 2.397, val perplexity 11.07370\n",
      "Epoch 9, iter 1700, train loss 2.442, val perplexity 11.07380\n",
      "Epoch 9, iter 1800, train loss 2.396, val perplexity 11.07368\n",
      "Epoch 9, iter 1900, train loss 2.428, val perplexity 11.07367\n",
      "Epoch 9, iter 2000, train loss 2.430, val perplexity 11.07382\n",
      "Epoch 9, iter 2100, train loss 2.363, val perplexity 11.07376\n",
      "Epoch 9, iter 2200, train loss 2.391, val perplexity 11.07373\n",
      "Epoch 9, iter 2300, train loss 2.406, val perplexity 11.07385\n"
     ]
    }
   ],
   "source": [
    "train_model(model, train_loader, valid_loader, epochs=10, lr=1e-3, eval_every=100)"
   ]
  },
  {
   "cell_type": "markdown",
   "metadata": {},
   "source": [
    "We can now test the model by generating new SMILES strings. We will start with a random token and generate 100 new tokens."
   ]
  },
  {
   "cell_type": "code",
   "execution_count": 168,
   "metadata": {},
   "outputs": [
    {
     "data": {
      "text/plain": [
       "'[C@@][C@]Cl)O(BCO1'"
      ]
     },
     "execution_count": 168,
     "metadata": {},
     "output_type": "execute_result"
    }
   ],
   "source": [
    "a = torch.tensor([[4]])\n",
    "a = a.to(device)\n",
    "generation = model.generate(a, max_new_tokens=10).cpu().numpy()\n",
    "tokenizer.decode(generation[0])"
   ]
  },
  {
   "cell_type": "markdown",
   "metadata": {},
   "source": [
    "This does not yet look like a valid SMILES string ..."
   ]
  },
  {
   "cell_type": "markdown",
   "metadata": {},
   "source": [
    "## Making tokens talk using attention"
   ]
  },
  {
   "cell_type": "markdown",
   "metadata": {},
   "source": [
    "In our bigram models we made predictions based on the previous word.\n",
    "This is clearly not enough to make good predictions.\n",
    "We can improve our model by taking into more past tokens into account.\n",
    "\n",
    "One naïve way to incorporate more context into our model might be to simply \"pool\" (features of) the preceding tokens.\n",
    "This kind of pooling is similar to what we do in GNNs, e.g., to combine node embeddings. \n",
    "\n",
    "A very simple pooling operation is the average of the embeddings of the preceding tokens. Later, when we will implement self-attention, we will not use a simple average, but a special weighted average. The code for that will use similar ideas (in particular, the causal mask)."
   ]
  },
  {
   "cell_type": "code",
   "execution_count": 167,
   "metadata": {},
   "outputs": [],
   "source": [
    "B, T, C = 2, 5, 3 # batch size, time (sequence length), channels (features)\n",
    "\n",
    "# create random data of shape (B, T, C)\n",
    "x = torch.randn(B,T,C)\n",
    "\n",
    "x_bag_of_words = torch.zeros((B,T,C))\n",
    "for b in range(B):\n",
    "    for t in range(T):\n",
    "        x_prev = x[b,:t+1] # shape (t, C)\n",
    "        \n",
    "        x_bag_of_words[b, t] = torch.mean(x_prev, dim=0) # shape (C,)"
   ]
  },
  {
   "cell_type": "markdown",
   "metadata": {},
   "source": [
    "This nested for loop is slow. However, we can implement this in an efficient way if we observe a few things: \n",
    "\n",
    "- If we want to predict next tokens, we do not want to let the future tokens influence the prediction. \n",
    "Therefore, we can use a so-called causal mask to mask out the future tokens.\n",
    "\n",
    "- A matrix multiplication can be thought of as a weighted sum of the rows of the matrix, where the weights are given by the columns of the matrix. This is easy to see if we think of the following extremes: \n",
    "\n",
    "  - We can compute the sum of the rows of a matrix by multiplying the matrix with a lower-triangular matrix filled with ones.\n",
    "   - We can compute the mean of the rows of a matrix by multiplying the matrix with a lower-triangular matrix filled with ones and dividing by the number of ones in the lower-triangular matrix.\n",
    "  "
   ]
  },
  {
   "cell_type": "markdown",
   "metadata": {},
   "source": [
    "In `torch` we can use `tril` to create a lower-triangular matrix."
   ]
  },
  {
   "cell_type": "code",
   "execution_count": 169,
   "metadata": {},
   "outputs": [],
   "source": [
    "lower_triangular_mask = torch.tril(torch.ones((T,T)))\n",
    "\n",
    "weight = torch.ones((T,T))\n",
    "weight = torch.masked_fill(weight, lower_triangular_mask==0, float('-inf'))\n",
    "\n",
    "weight = torch.softmax(weight, dim=1)"
   ]
  },
  {
   "cell_type": "code",
   "execution_count": 170,
   "metadata": {},
   "outputs": [
    {
     "data": {
      "text/plain": [
       "tensor([[1.0000, 0.0000, 0.0000, 0.0000, 0.0000],\n",
       "        [0.5000, 0.5000, 0.0000, 0.0000, 0.0000],\n",
       "        [0.3333, 0.3333, 0.3333, 0.0000, 0.0000],\n",
       "        [0.2500, 0.2500, 0.2500, 0.2500, 0.0000],\n",
       "        [0.2000, 0.2000, 0.2000, 0.2000, 0.2000]])"
      ]
     },
     "execution_count": 170,
     "metadata": {},
     "output_type": "execute_result"
    }
   ],
   "source": [
    "weight  "
   ]
  },
  {
   "cell_type": "markdown",
   "metadata": {},
   "source": [
    "We used the softmax function to normalize the weights in the rows. "
   ]
  },
  {
   "cell_type": "code",
   "execution_count": 171,
   "metadata": {},
   "outputs": [
    {
     "data": {
      "text/plain": [
       "tensor([[[-0.6594,  0.1502, -0.2865],\n",
       "         [-0.5213, -0.4364,  0.4502],\n",
       "         [-0.3585, -0.1425,  0.5507],\n",
       "         [-0.0764,  0.1243,  0.6123],\n",
       "         [-0.1630,  0.0269,  0.5489]],\n",
       "\n",
       "        [[-0.6673,  0.6167, -0.9546],\n",
       "         [-0.3099, -0.0206,  0.3154],\n",
       "         [ 0.1767, -0.0318,  0.3009],\n",
       "         [ 0.4085, -0.2151,  0.5611],\n",
       "         [ 0.4605, -0.4176,  0.5351]]])"
      ]
     },
     "execution_count": 171,
     "metadata": {},
     "output_type": "execute_result"
    }
   ],
   "source": [
    "weight @ x"
   ]
  },
  {
   "cell_type": "markdown",
   "metadata": {},
   "source": [
    "In the simple average we used above, all past tokens were treated equally.\n",
    "However, it might be useful to _pay more attention_  to certain tokens than to others. That is, we want to gather information from the past -- but do this in a data-dependent way.\n",
    "The attention mechanism allows us to do this.\n",
    "\n",
    "The attention mechanism does this by having a query vector $q$ and a key vector $k$ for each token. We then define \"similarity\" or \"relevance\" between two tokens $i$ and $j$ as the dot product between their query and key vectors, which we derive from the embeddings of the tokens by multiplying them with the learnable weight matrices $W_q$ and $W_k$.\n",
    "\n",
    "$$\n",
    "\\text{sim}(i, j) = a(i, h) = q_ik_j^T = \\text{emb}_i W_q W_k^T \\text{emb}_j^T\n",
    "$$"
   ]
  },
  {
   "cell_type": "markdown",
   "metadata": {},
   "source": [
    "Note that this gives us now a way to refine the `weight_matrix` we used above. Instead of weighting all tokens equally, we can now learn a weight matrix that tells us how much attention to pay to each token.\n",
    "\n",
    "To start the implementation, we will first derive query and key vectors from the embeddings. We will then compute the similarity matrix and apply the softmax function to normalize the weights."
   ]
  },
  {
   "cell_type": "code",
   "execution_count": 172,
   "metadata": {},
   "outputs": [],
   "source": [
    "B, T, C = 2, 5, 3 # batch size, time (sequence length), channels (features)\n",
    "x = torch.randn(B,T,C)\n",
    "\n",
    "head_size = 16 # hyperparameter\n",
    "\n",
    "# with bias = False, it only perform matrix multiplication\n",
    "key_layer = nn.Linear(C, head_size, bias=False)  \n",
    "query_layer = nn.Linear(C, head_size, bias=False)"
   ]
  },
  {
   "cell_type": "markdown",
   "metadata": {},
   "source": [
    "The attention matrix defined above is now a simple matrix multiplication between the query and key vectors. The attention matrix is then normalized using a softmax function."
   ]
  },
  {
   "cell_type": "code",
   "execution_count": 174,
   "metadata": {},
   "outputs": [],
   "source": [
    "query = query_layer(x) # shape (B, T, head_size)\n",
    "key = key_layer(x) # shape (B, T, head_size)"
   ]
  },
  {
   "cell_type": "code",
   "execution_count": 182,
   "metadata": {},
   "outputs": [],
   "source": [
    "attention = query @ key.transpose(1,2) # shape (B, T, T)"
   ]
  },
  {
   "cell_type": "markdown",
   "metadata": {},
   "source": [
    "Note that the shape of the attention matrix is (B, T, T). The attention matrix is a matrix where each row corresponds to a query and each column corresponds to a key. The value at position (i, j) in the attention matrix is the attention score between the i-th query and the j-th key."
   ]
  },
  {
   "cell_type": "code",
   "execution_count": 183,
   "metadata": {},
   "outputs": [
    {
     "data": {
      "text/plain": [
       "tensor([[[ 0.3521, -0.4349,  1.3019, -1.4227, -0.9973],\n",
       "         [-0.3857, -0.7338,  0.5761, -1.0932, -0.8915],\n",
       "         [-0.1943, -0.5278,  0.5179, -0.8923, -0.6988],\n",
       "         [-1.1021, -0.8737, -0.3723, -0.4446, -0.5439],\n",
       "         [-0.5155, -0.5618,  0.0866, -0.5447, -0.5076]],\n",
       "\n",
       "        [[-1.3238,  0.7295, -0.1932, -0.3536,  0.1224],\n",
       "         [ 1.2033, -0.5237, -0.4037, -0.9075, -0.6969],\n",
       "         [ 0.6911, -0.5819,  0.6078,  1.0999,  0.4158],\n",
       "         [ 2.9120, -1.8470,  0.5745,  0.6777, -0.2034],\n",
       "         [ 1.2999, -0.8820,  0.5131,  0.8557,  0.1704]]],\n",
       "       grad_fn=<UnsafeViewBackward0>)"
      ]
     },
     "execution_count": 183,
     "metadata": {},
     "output_type": "execute_result"
    }
   ],
   "source": [
    "attention"
   ]
  },
  {
   "cell_type": "markdown",
   "metadata": {},
   "source": [
    "But to avoid the future tokens to influence the prediction, we will use a causal mask.\n",
    "We do this the same way as we did above, by using `torch.tril`."
   ]
  },
  {
   "cell_type": "code",
   "execution_count": 184,
   "metadata": {},
   "outputs": [],
   "source": [
    "lower_triangular_mask = torch.tril(torch.ones((T,T)))\n",
    "\n",
    "attention = torch.masked_fill(attention, lower_triangular_mask==0, float('-inf'))   \n",
    "\n",
    "attention = torch.softmax(attention, dim=2) # shape (B, T, T), softmax along the last dimension\n",
    "\n",
    "out = attention @ x # shape (B, T, T) @ (B, T, C) = (B, T, C)"
   ]
  },
  {
   "cell_type": "markdown",
   "metadata": {},
   "source": [
    "In the attention mechanism popularized in the [\"attention is all you need\" paper](https://arxiv.org/abs/1706.03762) we add even more expressive power by transforming `x` before we multiply it with the attention matrix. We call this transformed `x` the value vector (or matrix). The full implementation of the attention mechanism is then:"
   ]
  },
  {
   "cell_type": "code",
   "execution_count": 186,
   "metadata": {},
   "outputs": [],
   "source": [
    "B, T, C = 2, 5, 3 # batch size, time (sequence length), channels (features)\n",
    "x = torch.randn(B,T,C)\n",
    "\n",
    "head_size = 16 # hyperparameter\n",
    "\n",
    "# what do I contain\n",
    "# with bias = False, it only perform matrix multiplication\n",
    "key = nn.Linear(C, head_size, bias=False)\n",
    "\n",
    "# what am I looking for\n",
    "query = nn.Linear(C, head_size, bias=False)\n",
    "\n",
    "# what I will tell you\n",
    "value = nn.Linear(C, head_size, bias=False) # Output: (B, T, head_size)\n",
    "# self-attention because k, q, v come all from the same input\n",
    "k = key(x) # shape (B, T, head_size)\n",
    "q = query(x) # shape (B, T, head_size)\n",
    "v = value(x) # shape (B, T, head_size)\n",
    "\n",
    "# now, we want to compute the attention\n",
    "# we need to compute the dot product between k and q\n",
    "weight_matrix = q @ k.transpose(-2, -1) # shape (B, T, head_size) @ (B, head_size, T) = (B, T, T)\n",
    "\n",
    "# now we add the masking\n",
    "# we want to mask out the future\n",
    "# this is what is known as \"decoder\" block \n",
    "lower_triangular = torch.tril(torch.ones((T,T)))\n",
    "weight_matrix = weight_matrix.masked_fill(lower_triangular==0, float('-inf'))\n",
    "\n",
    "# use softmax to normalize\n",
    "weight_matrix = torch.softmax(weight_matrix, dim=-1)/np.sqrt(head_size) # shape (B, T, T)\n",
    "\n",
    "out = weight_matrix @ v # shape (B, T, T) @ (B, T, head_size) = (B, T, head_size)"
   ]
  },
  {
   "cell_type": "markdown",
   "metadata": {},
   "source": [
    "#### Interlude: Why do we divide by sqrt(head_size) in the self-attention mechanism?"
   ]
  },
  {
   "cell_type": "markdown",
   "metadata": {},
   "source": [
    "We used one more trick to make the training more stable. We scaled the weight_matrix by the square root of the head_size. [This is because the variance of the dot product is proportional to the dimensionality of the vectors.](https://ai.stackexchange.com/questions/21237/why-does-this-multiplication-of-q-and-k-have-a-variance-of-d-k-in-scaled). Not scaling the weight matrix can lead to numerical instability."
   ]
  },
  {
   "cell_type": "markdown",
   "metadata": {},
   "source": [
    "To see this, let's run a quick experiment"
   ]
  },
  {
   "cell_type": "code",
   "execution_count": 190,
   "metadata": {},
   "outputs": [],
   "source": [
    "variances = []\n",
    "dimensions = [1, 10, 100, 1000, 10000, 100000]\n",
    "\n",
    "for d in dimensions:\n",
    "\n",
    "    k = torch.randn(B, T, d)\n",
    "    q = torch.randn(B, T, d)\n",
    "\n",
    "    # compute the batched matrix product between k and q\n",
    "    weight_matrix = torch.bmm(q, k.transpose(-2, -1))   # shape (B, T, head_size) @ (B, head_size, T) = (B, T, T)\n",
    "    variances.append(weight_matrix.var())"
   ]
  },
  {
   "cell_type": "code",
   "execution_count": 192,
   "metadata": {},
   "outputs": [
    {
     "data": {
      "text/plain": [
       "Text(0, 0.5, 'Variance')"
      ]
     },
     "execution_count": 192,
     "metadata": {},
     "output_type": "execute_result"
    },
    {
     "data": {
      "image/png": "[encoded data removed]",
      "text/plain": [
       "<Figure size 640x480 with 1 Axes>"
      ]
     },
     "metadata": {},
     "output_type": "display_data"
    }
   ],
   "source": [
    "plt.plot(dimensions, variances)\n",
    "plt.xscale('log')\n",
    "plt.yscale('log')\n",
    "plt.xlabel('Dimensionality')\n",
    "plt.ylabel('Variance')"
   ]
  },
  {
   "cell_type": "markdown",
   "metadata": {},
   "source": [
    "This has an important impact when we apply `softmax`.\n",
    "Positive and negative \"outliers\" will be \"sequeezed\" to 1 and 0. You can test this by creating a 1D tensor (`a`) and applying softmax on it. \n",
    "Then multiply the values in the tensor  (`a`) and again apply softmax. "
   ]
  },
  {
   "cell_type": "code",
   "execution_count": 195,
   "metadata": {},
   "outputs": [
    {
     "name": "stdout",
     "output_type": "stream",
     "text": [
      "tensor([0.0900, 0.2447, 0.6652]) tensor([0.0000e+00, 3.7835e-44, 1.0000e+00])\n"
     ]
    },
    {
     "name": "stderr",
     "output_type": "stream",
     "text": [
      "/var/folders/m9/_txh68y946s4pxy1x2wnd3lh0000gn/T/ipykernel_51170/1895642280.py:1: UserWarning: Implicit dimension choice for softmax has been deprecated. Change the call to include dim=X as an argument.\n",
      "  print(F.softmax(torch.tensor([1.,2.,3.])),F.softmax(torch.tensor([1.,2.,3.])*100) )\n"
     ]
    }
   ],
   "source": [
    "print(F.softmax(torch.tensor([1.,2.,3.])),F.softmax(torch.tensor([1.,2.,3.])*100) )"
   ]
  },
  {
   "cell_type": "markdown",
   "metadata": {},
   "source": [
    "#### The attention mechanism"
   ]
  },
  {
   "cell_type": "markdown",
   "metadata": {},
   "source": [
    "Written as a formula, the attention mechanism is:\n",
    "\n",
    "$$\n",
    "\\text{Attention}(Q, K, V) = \\text{softmax}\\left(\\frac{QK^T}{\\sqrt{d_k}}\\right)V\n",
    "$$\n",
    "\n",
    "where $Q$ is the query matrix, $K$ is the key matrix, and $V$ is the value matrix."
   ]
  },
  {
   "cell_type": "markdown",
   "metadata": {},
   "source": [
    "### Refactoring into a module"
   ]
  },
  {
   "cell_type": "code",
   "execution_count": 202,
   "metadata": {},
   "outputs": [],
   "source": [
    "class Head(nn.Module):\n",
    "\n",
    "    def __init__(self, n_embed, block_size, head_size):\n",
    "        super().__init__()\n",
    "        self.key = nn.Linear(n_embed, head_size, bias=False)\n",
    "        self.query = nn.Linear(n_embed, head_size, bias=False)\n",
    "        self.value = nn.Linear(n_embed, head_size, bias=False)\n",
    "        \n",
    "        self.register_buffer('lower_triangular', torch.tril(torch.ones(block_size, block_size)))\n",
    "\n",
    "    def forward(self, x): \n",
    "        B, T, C  = x.shape\n",
    "        key = self.key(x)\n",
    "        query = self.query(x) # B, T, head\n",
    "        value = self.value(x)   # B, T, head\n",
    "\n",
    "        weight_matrix = query @ key.transpose(-2, -1) * C ** (-0.5) # shape (B, T, head_size) @ (B, head_size, T) = (B, T, T)\n",
    "        weight_matrix = weight_matrix.masked_fill(self.lower_triangular[:T, :T].logical_not(), float('-inf'))\n",
    "        weight_matrix = F.softmax(weight_matrix, dim=-1)\n",
    "\n",
    "        out = weight_matrix @ value # shape (B, T, T) @ (B, T, head_size) = (B, T, head_size)\n",
    "        return out"
   ]
  },
  {
   "cell_type": "markdown",
   "metadata": {},
   "source": [
    "### Revamped Bigram Model"
   ]
  },
  {
   "cell_type": "markdown",
   "metadata": {},
   "source": [
    "Now, we can use it to \"refine\" our bigram model. \n",
    "We will additionally also perform two more changes:\n",
    "\n",
    "- we will add positional embeddings: We will add the positional embeddings to the input embeddings. This will allow the model to take into account the position of the tokens in the sequence.\n",
    "- we will add one more indirection: One simple way of improving the expressiveness is to add one linear layer. While in the bigram model we only had one embedding layer (that mapped inputs of size `vocab_size` to `vocab_size`), we can now change the embedding layer to map inputs of size `vocab_size` to `embedding_size`. We can then add a linear layer that maps inputs of size `embedding_size` to `vocab_size`. This way, we can learn a more complex mapping from the embeddings to the next token."
   ]
  },
  {
   "cell_type": "code",
   "execution_count": 203,
   "metadata": {},
   "outputs": [],
   "source": [
    "class SelfAttentionModel(nn.Module):\n",
    "    def __init__(self, vocab_size, embedding_dim, sequence_length=100, head_size=4):\n",
    "        super().__init__()\n",
    "\n",
    "        # map the input ids to embeddings\n",
    "        self.token_embedding =  nn.Embedding(vocab_size, embedding_dim)\n",
    "\n",
    "        # add positional embeddings (each position has its own learnable embedding vector)\n",
    "        self.positional_embedding = nn.Embedding(sequence_length, embedding_dim)\n",
    "\n",
    "        # the self-attention layer\n",
    "        self.attention = Head(embedding_dim, sequence_length, head_size)\n",
    "\n",
    "        # the linear layer that maps the output of the self-attention layer to the vocabulary size\n",
    "        self.lm_head = nn.Linear(head_size, vocab_size)\n",
    "\n",
    "        # store the sequence length\n",
    "        self.sequence_length = sequence_length\n",
    "\n",
    "    def forward(self, x):\n",
    "        B, T = x.shape\n",
    "        x = self.token_embedding(x) # B, T, C \n",
    "        x += self.positional_embedding(torch.arange(T, device=device)) # B, T, C\n",
    "        x = self.attention(x) # B, T, head_size\n",
    "        x = self.lm_head(x) # B, T, vocab_size\n",
    "        # The prediction is for each token a probability distribution over the vocabulary\n",
    "        # this indicates how likely each token is the next token\n",
    "        return x\n",
    "\n",
    "        \n",
    "    def loss(self, x, y):\n",
    "        # x is a tensor of shape (B, T)\n",
    "        logits = self.forward(x) # (B, T, C)\n",
    "        B, T, C = logits.shape\n",
    "        logits = logits.view(B*T, C)\n",
    "        y = y.view(B*T)\n",
    "        loss = F.cross_entropy(logits, y)\n",
    "        return loss\n",
    "    \n",
    "    def generate(self, x, max_new_tokens=100):\n",
    "        # x is a tensor of shape (B, T)\n",
    "        # we generate max_new_tokens new tokens\n",
    "        for _t in range(max_new_tokens):\n",
    "            logits = self.forward(x)\n",
    "            logits = logits[:, -1, :]\n",
    "            probs = F.softmax(logits, dim=-1)\n",
    "            next_token = torch.multinomial(probs, num_samples=1)\n",
    "            x = torch.cat([x, next_token], dim=1)\n",
    "        return x\n",
    "        \n",
    "    "
   ]
  },
  {
   "cell_type": "code",
   "execution_count": 204,
   "metadata": {},
   "outputs": [
    {
     "name": "stdout",
     "output_type": "stream",
     "text": [
      "Epoch 0, iter 0, train loss 4.124, val perplexity 55.82777\n",
      "Epoch 0, iter 100, train loss 2.388, val perplexity 11.19858\n",
      "Epoch 0, iter 200, train loss 2.387, val perplexity 11.12724\n",
      "Epoch 0, iter 300, train loss 2.394, val perplexity 11.12101\n",
      "Epoch 0, iter 400, train loss 2.411, val perplexity 11.12952\n",
      "Epoch 0, iter 500, train loss 2.412, val perplexity 11.10590\n",
      "Epoch 0, iter 600, train loss 2.409, val perplexity 11.11807\n",
      "Epoch 0, iter 700, train loss 2.424, val perplexity 11.10892\n",
      "Epoch 0, iter 800, train loss 2.441, val perplexity 11.11399\n",
      "Epoch 0, iter 900, train loss 2.410, val perplexity 11.10943\n",
      "Epoch 0, iter 1000, train loss 2.420, val perplexity 11.11094\n",
      "Epoch 0, iter 1100, train loss 2.394, val perplexity 11.10506\n",
      "Epoch 0, iter 1200, train loss 2.428, val perplexity 11.09540\n",
      "Epoch 0, iter 1300, train loss 2.430, val perplexity 11.09374\n",
      "Epoch 0, iter 1400, train loss 2.365, val perplexity 11.10669\n",
      "Epoch 0, iter 1500, train loss 2.418, val perplexity 11.10741\n",
      "Epoch 0, iter 1600, train loss 2.384, val perplexity 11.10166\n",
      "Epoch 0, iter 1700, train loss 2.412, val perplexity 11.11698\n",
      "Epoch 0, iter 1800, train loss 2.447, val perplexity 11.09141\n",
      "Epoch 0, iter 1900, train loss 2.408, val perplexity 11.08764\n",
      "Epoch 0, iter 2000, train loss 2.387, val perplexity 11.10106\n",
      "Epoch 0, iter 2100, train loss 2.415, val perplexity 11.09020\n",
      "Epoch 0, iter 2200, train loss 2.423, val perplexity 11.10499\n",
      "Epoch 0, iter 2300, train loss 2.394, val perplexity 11.10698\n",
      "Epoch 1, iter 0, train loss 2.416, val perplexity 11.09823\n",
      "Epoch 1, iter 100, train loss 2.377, val perplexity 11.09025\n",
      "Epoch 1, iter 200, train loss 2.391, val perplexity 11.08770\n",
      "Epoch 1, iter 300, train loss 2.383, val perplexity 11.09473\n",
      "Epoch 1, iter 400, train loss 2.411, val perplexity 11.09210\n",
      "Epoch 1, iter 500, train loss 2.369, val perplexity 11.10044\n",
      "Epoch 1, iter 600, train loss 2.402, val perplexity 11.11767\n",
      "Epoch 1, iter 700, train loss 2.429, val perplexity 11.09801\n",
      "Epoch 1, iter 800, train loss 2.400, val perplexity 11.08748\n",
      "Epoch 1, iter 900, train loss 2.373, val perplexity 11.08818\n",
      "Epoch 1, iter 1000, train loss 2.411, val perplexity 11.08949\n",
      "Epoch 1, iter 1100, train loss 2.405, val perplexity 11.08937\n",
      "Epoch 1, iter 1200, train loss 2.389, val perplexity 11.09055\n",
      "Epoch 1, iter 1300, train loss 2.381, val perplexity 11.09659\n",
      "Epoch 1, iter 1400, train loss 2.394, val perplexity 11.09339\n",
      "Epoch 1, iter 1500, train loss 2.403, val perplexity 11.09767\n",
      "Epoch 1, iter 1600, train loss 2.384, val perplexity 11.09845\n",
      "Epoch 1, iter 1700, train loss 2.422, val perplexity 11.09206\n",
      "Epoch 1, iter 1800, train loss 2.405, val perplexity 11.09331\n",
      "Epoch 1, iter 1900, train loss 2.415, val perplexity 11.08692\n",
      "Epoch 1, iter 2000, train loss 2.415, val perplexity 11.09814\n",
      "Epoch 1, iter 2100, train loss 2.436, val perplexity 11.08876\n",
      "Epoch 1, iter 2200, train loss 2.394, val perplexity 11.08603\n",
      "Epoch 1, iter 2300, train loss 2.398, val perplexity 11.08688\n",
      "Epoch 2, iter 0, train loss 2.391, val perplexity 11.09284\n",
      "Epoch 2, iter 100, train loss 2.390, val perplexity 11.08920\n",
      "Epoch 2, iter 200, train loss 2.408, val perplexity 11.09971\n",
      "Epoch 2, iter 300, train loss 2.407, val perplexity 11.10155\n",
      "Epoch 2, iter 400, train loss 2.371, val perplexity 11.08800\n",
      "Epoch 2, iter 500, train loss 2.377, val perplexity 11.09237\n",
      "Epoch 2, iter 600, train loss 2.397, val perplexity 11.08786\n",
      "Epoch 2, iter 700, train loss 2.432, val perplexity 11.09027\n",
      "Epoch 2, iter 800, train loss 2.453, val perplexity 11.09479\n",
      "Epoch 2, iter 900, train loss 2.427, val perplexity 11.09070\n",
      "Epoch 2, iter 1000, train loss 2.412, val perplexity 11.09146\n",
      "Epoch 2, iter 1100, train loss 2.417, val perplexity 11.08907\n",
      "Epoch 2, iter 1200, train loss 2.356, val perplexity 11.09570\n",
      "Epoch 2, iter 1300, train loss 2.415, val perplexity 11.08749\n",
      "Epoch 2, iter 1400, train loss 2.414, val perplexity 11.08112\n",
      "Epoch 2, iter 1500, train loss 2.398, val perplexity 11.08555\n",
      "Epoch 2, iter 1600, train loss 2.422, val perplexity 11.09179\n",
      "Epoch 2, iter 1700, train loss 2.399, val perplexity 11.08997\n",
      "Epoch 2, iter 1800, train loss 2.414, val perplexity 11.09650\n",
      "Epoch 2, iter 1900, train loss 2.409, val perplexity 11.08493\n",
      "Epoch 2, iter 2000, train loss 2.409, val perplexity 11.08983\n",
      "Epoch 2, iter 2100, train loss 2.417, val perplexity 11.08645\n",
      "Epoch 2, iter 2200, train loss 2.384, val perplexity 11.08418\n",
      "Epoch 2, iter 2300, train loss 2.390, val perplexity 11.08305\n",
      "Epoch 3, iter 0, train loss 2.380, val perplexity 11.08910\n",
      "Epoch 3, iter 100, train loss 2.443, val perplexity 11.08976\n",
      "Epoch 3, iter 200, train loss 2.429, val perplexity 11.08478\n",
      "Epoch 3, iter 300, train loss 2.404, val perplexity 11.08251\n",
      "Epoch 3, iter 400, train loss 2.411, val perplexity 11.08396\n",
      "Epoch 3, iter 500, train loss 2.415, val perplexity 11.09192\n",
      "Epoch 3, iter 600, train loss 2.430, val perplexity 11.08152\n",
      "Epoch 3, iter 700, train loss 2.429, val perplexity 11.09316\n",
      "Epoch 3, iter 800, train loss 2.448, val perplexity 11.08478\n",
      "Epoch 3, iter 900, train loss 2.447, val perplexity 11.08606\n",
      "Epoch 3, iter 1000, train loss 2.399, val perplexity 11.09091\n",
      "Epoch 3, iter 1100, train loss 2.408, val perplexity 11.08513\n",
      "Epoch 3, iter 1200, train loss 2.421, val perplexity 11.08521\n",
      "Epoch 3, iter 1300, train loss 2.434, val perplexity 11.08139\n",
      "Epoch 3, iter 1400, train loss 2.423, val perplexity 11.08271\n",
      "Epoch 3, iter 1500, train loss 2.428, val perplexity 11.08595\n",
      "Epoch 3, iter 1600, train loss 2.423, val perplexity 11.08252\n",
      "Epoch 3, iter 1700, train loss 2.417, val perplexity 11.09312\n",
      "Epoch 3, iter 1800, train loss 2.450, val perplexity 11.08849\n",
      "Epoch 3, iter 1900, train loss 2.416, val perplexity 11.09376\n",
      "Epoch 3, iter 2000, train loss 2.402, val perplexity 11.08234\n",
      "Epoch 3, iter 2100, train loss 2.387, val perplexity 11.08825\n",
      "Epoch 3, iter 2200, train loss 2.410, val perplexity 11.08716\n",
      "Epoch 3, iter 2300, train loss 2.416, val perplexity 11.08786\n",
      "Epoch 4, iter 0, train loss 2.431, val perplexity 11.08732\n",
      "Epoch 4, iter 100, train loss 2.418, val perplexity 11.08994\n",
      "Epoch 4, iter 200, train loss 2.375, val perplexity 11.08289\n",
      "Epoch 4, iter 300, train loss 2.402, val perplexity 11.09380\n",
      "Epoch 4, iter 400, train loss 2.444, val perplexity 11.08196\n",
      "Epoch 4, iter 500, train loss 2.430, val perplexity 11.09146\n",
      "Epoch 4, iter 600, train loss 2.414, val perplexity 11.08931\n",
      "Epoch 4, iter 700, train loss 2.392, val perplexity 11.08145\n",
      "Epoch 4, iter 800, train loss 2.431, val perplexity 11.08986\n",
      "Epoch 4, iter 900, train loss 2.409, val perplexity 11.08562\n",
      "Epoch 4, iter 1000, train loss 2.381, val perplexity 11.08575\n",
      "Epoch 4, iter 1100, train loss 2.390, val perplexity 11.08247\n",
      "Epoch 4, iter 1200, train loss 2.390, val perplexity 11.09000\n",
      "Epoch 4, iter 1300, train loss 2.393, val perplexity 11.09160\n",
      "Epoch 4, iter 1400, train loss 2.397, val perplexity 11.08732\n",
      "Epoch 4, iter 1500, train loss 2.387, val perplexity 11.08443\n",
      "Epoch 4, iter 1600, train loss 2.387, val perplexity 11.09168\n",
      "Epoch 4, iter 1700, train loss 2.372, val perplexity 11.08432\n",
      "Epoch 4, iter 1800, train loss 2.404, val perplexity 11.08689\n",
      "Epoch 4, iter 1900, train loss 2.419, val perplexity 11.08175\n",
      "Epoch 4, iter 2000, train loss 2.400, val perplexity 11.08565\n",
      "Epoch 4, iter 2100, train loss 2.417, val perplexity 11.08862\n",
      "Epoch 4, iter 2200, train loss 2.406, val perplexity 11.07848\n",
      "Epoch 4, iter 2300, train loss 2.381, val perplexity 11.08443\n",
      "Epoch 5, iter 0, train loss 2.433, val perplexity 11.08817\n",
      "Epoch 5, iter 100, train loss 2.406, val perplexity 11.08162\n",
      "Epoch 5, iter 200, train loss 2.414, val perplexity 11.08919\n",
      "Epoch 5, iter 300, train loss 2.423, val perplexity 11.08315\n",
      "Epoch 5, iter 400, train loss 2.418, val perplexity 11.08115\n",
      "Epoch 5, iter 500, train loss 2.402, val perplexity 11.08391\n",
      "Epoch 5, iter 600, train loss 2.412, val perplexity 11.09365\n",
      "Epoch 5, iter 700, train loss 2.399, val perplexity 11.08553\n",
      "Epoch 5, iter 800, train loss 2.385, val perplexity 11.08504\n",
      "Epoch 5, iter 900, train loss 2.409, val perplexity 11.09162\n",
      "Epoch 5, iter 1000, train loss 2.401, val perplexity 11.08724\n",
      "Epoch 5, iter 1100, train loss 2.400, val perplexity 11.08480\n",
      "Epoch 5, iter 1200, train loss 2.381, val perplexity 11.07982\n",
      "Epoch 5, iter 1300, train loss 2.428, val perplexity 11.08074\n",
      "Epoch 5, iter 1400, train loss 2.402, val perplexity 11.08076\n",
      "Epoch 5, iter 1500, train loss 2.370, val perplexity 11.08601\n",
      "Epoch 5, iter 1600, train loss 2.444, val perplexity 11.08128\n",
      "Epoch 5, iter 1700, train loss 2.384, val perplexity 11.07793\n",
      "Epoch 5, iter 1800, train loss 2.404, val perplexity 11.07864\n",
      "Epoch 5, iter 1900, train loss 2.393, val perplexity 11.08708\n",
      "Epoch 5, iter 2000, train loss 2.424, val perplexity 11.08692\n",
      "Epoch 5, iter 2100, train loss 2.423, val perplexity 11.08698\n",
      "Epoch 5, iter 2200, train loss 2.387, val perplexity 11.07958\n",
      "Epoch 5, iter 2300, train loss 2.400, val perplexity 11.08280\n",
      "Epoch 6, iter 0, train loss 2.425, val perplexity 11.08352\n",
      "Epoch 6, iter 100, train loss 2.393, val perplexity 11.08390\n",
      "Epoch 6, iter 200, train loss 2.404, val perplexity 11.07994\n",
      "Epoch 6, iter 300, train loss 2.375, val perplexity 11.08319\n",
      "Epoch 6, iter 400, train loss 2.426, val perplexity 11.08233\n",
      "Epoch 6, iter 500, train loss 2.398, val perplexity 11.07754\n",
      "Epoch 6, iter 600, train loss 2.389, val perplexity 11.08095\n",
      "Epoch 6, iter 700, train loss 2.377, val perplexity 11.08012\n",
      "Epoch 6, iter 800, train loss 2.385, val perplexity 11.08026\n",
      "Epoch 6, iter 900, train loss 2.406, val perplexity 11.07890\n",
      "Epoch 6, iter 1000, train loss 2.388, val perplexity 11.07917\n",
      "Epoch 6, iter 1100, train loss 2.445, val perplexity 11.08292\n",
      "Epoch 6, iter 1200, train loss 2.435, val perplexity 11.08142\n",
      "Epoch 6, iter 1300, train loss 2.396, val perplexity 11.08304\n",
      "Epoch 6, iter 1400, train loss 2.375, val perplexity 11.08752\n",
      "Epoch 6, iter 1500, train loss 2.401, val perplexity 11.07907\n",
      "Epoch 6, iter 1600, train loss 2.397, val perplexity 11.08185\n",
      "Epoch 6, iter 1700, train loss 2.416, val perplexity 11.08626\n",
      "Epoch 6, iter 1800, train loss 2.388, val perplexity 11.08229\n",
      "Epoch 6, iter 1900, train loss 2.404, val perplexity 11.08109\n",
      "Epoch 6, iter 2000, train loss 2.380, val perplexity 11.08226\n",
      "Epoch 6, iter 2100, train loss 2.446, val perplexity 11.08410\n",
      "Epoch 6, iter 2200, train loss 2.421, val perplexity 11.07880\n",
      "Epoch 6, iter 2300, train loss 2.444, val perplexity 11.08569\n",
      "Epoch 7, iter 0, train loss 2.407, val perplexity 11.08170\n",
      "Epoch 7, iter 100, train loss 2.394, val perplexity 11.08424\n",
      "Epoch 7, iter 200, train loss 2.390, val perplexity 11.08440\n",
      "Epoch 7, iter 300, train loss 2.393, val perplexity 11.08069\n",
      "Epoch 7, iter 400, train loss 2.419, val perplexity 11.08156\n",
      "Epoch 7, iter 500, train loss 2.400, val perplexity 11.08258\n",
      "Epoch 7, iter 600, train loss 2.406, val perplexity 11.08027\n",
      "Epoch 7, iter 700, train loss 2.418, val perplexity 11.08211\n",
      "Epoch 7, iter 800, train loss 2.415, val perplexity 11.08057\n",
      "Epoch 7, iter 900, train loss 2.403, val perplexity 11.07885\n",
      "Epoch 7, iter 1000, train loss 2.395, val perplexity 11.07921\n",
      "Epoch 7, iter 1100, train loss 2.400, val perplexity 11.08124\n",
      "Epoch 7, iter 1200, train loss 2.425, val perplexity 11.08465\n",
      "Epoch 7, iter 1300, train loss 2.395, val perplexity 11.08027\n",
      "Epoch 7, iter 1400, train loss 2.407, val perplexity 11.08265\n",
      "Epoch 7, iter 1500, train loss 2.397, val perplexity 11.08360\n",
      "Epoch 7, iter 1600, train loss 2.412, val perplexity 11.08794\n",
      "Epoch 7, iter 1700, train loss 2.409, val perplexity 11.08159\n",
      "Epoch 7, iter 1800, train loss 2.406, val perplexity 11.07970\n",
      "Epoch 7, iter 1900, train loss 2.406, val perplexity 11.08356\n",
      "Epoch 7, iter 2000, train loss 2.423, val perplexity 11.08166\n",
      "Epoch 7, iter 2100, train loss 2.397, val perplexity 11.07727\n",
      "Epoch 7, iter 2200, train loss 2.409, val perplexity 11.08467\n",
      "Epoch 7, iter 2300, train loss 2.370, val perplexity 11.07904\n",
      "Epoch 8, iter 0, train loss 2.368, val perplexity 11.08059\n",
      "Epoch 8, iter 100, train loss 2.423, val perplexity 11.08200\n",
      "Epoch 8, iter 200, train loss 2.410, val perplexity 11.07815\n",
      "Epoch 8, iter 300, train loss 2.413, val perplexity 11.08172\n",
      "Epoch 8, iter 400, train loss 2.372, val perplexity 11.07827\n",
      "Epoch 8, iter 500, train loss 2.403, val perplexity 11.07991\n",
      "Epoch 8, iter 600, train loss 2.408, val perplexity 11.07978\n",
      "Epoch 8, iter 700, train loss 2.369, val perplexity 11.08273\n",
      "Epoch 8, iter 800, train loss 2.397, val perplexity 11.08346\n",
      "Epoch 8, iter 900, train loss 2.417, val perplexity 11.08189\n",
      "Epoch 8, iter 1000, train loss 2.438, val perplexity 11.07828\n",
      "Epoch 8, iter 1100, train loss 2.423, val perplexity 11.07997\n",
      "Epoch 8, iter 1200, train loss 2.427, val perplexity 11.08032\n",
      "Epoch 8, iter 1300, train loss 2.408, val perplexity 11.08005\n",
      "Epoch 8, iter 1400, train loss 2.395, val perplexity 11.07992\n",
      "Epoch 8, iter 1500, train loss 2.389, val perplexity 11.07970\n",
      "Epoch 8, iter 1600, train loss 2.421, val perplexity 11.08282\n",
      "Epoch 8, iter 1700, train loss 2.410, val perplexity 11.07893\n",
      "Epoch 8, iter 1800, train loss 2.402, val perplexity 11.07853\n",
      "Epoch 8, iter 1900, train loss 2.387, val perplexity 11.07859\n",
      "Epoch 8, iter 2000, train loss 2.396, val perplexity 11.08859\n",
      "Epoch 8, iter 2100, train loss 2.424, val perplexity 11.07993\n",
      "Epoch 8, iter 2200, train loss 2.389, val perplexity 11.07753\n",
      "Epoch 8, iter 2300, train loss 2.425, val perplexity 11.07979\n",
      "Epoch 9, iter 0, train loss 2.393, val perplexity 11.08574\n",
      "Epoch 9, iter 100, train loss 2.445, val perplexity 11.08460\n",
      "Epoch 9, iter 200, train loss 2.343, val perplexity 11.08016\n",
      "Epoch 9, iter 300, train loss 2.422, val perplexity 11.08048\n",
      "Epoch 9, iter 400, train loss 2.400, val perplexity 11.08331\n",
      "Epoch 9, iter 500, train loss 2.398, val perplexity 11.09080\n",
      "Epoch 9, iter 600, train loss 2.383, val perplexity 11.08066\n",
      "Epoch 9, iter 700, train loss 2.417, val perplexity 11.08187\n",
      "Epoch 9, iter 800, train loss 2.441, val perplexity 11.08072\n",
      "Epoch 9, iter 900, train loss 2.416, val perplexity 11.07930\n",
      "Epoch 9, iter 1000, train loss 2.439, val perplexity 11.08149\n",
      "Epoch 9, iter 1100, train loss 2.384, val perplexity 11.07934\n",
      "Epoch 9, iter 1200, train loss 2.383, val perplexity 11.07627\n",
      "Epoch 9, iter 1300, train loss 2.382, val perplexity 11.07983\n",
      "Epoch 9, iter 1400, train loss 2.414, val perplexity 11.08299\n",
      "Epoch 9, iter 1500, train loss 2.419, val perplexity 11.08153\n",
      "Epoch 9, iter 1600, train loss 2.412, val perplexity 11.08024\n",
      "Epoch 9, iter 1700, train loss 2.411, val perplexity 11.07876\n",
      "Epoch 9, iter 1800, train loss 2.430, val perplexity 11.08331\n",
      "Epoch 9, iter 1900, train loss 2.428, val perplexity 11.07763\n",
      "Epoch 9, iter 2000, train loss 2.404, val perplexity 11.08191\n",
      "Epoch 9, iter 2100, train loss 2.402, val perplexity 11.08576\n",
      "Epoch 9, iter 2200, train loss 2.370, val perplexity 11.08004\n",
      "Epoch 9, iter 2300, train loss 2.408, val perplexity 11.07864\n"
     ]
    }
   ],
   "source": [
    "model = SelfAttentionModel(len(tokenizer.tokens), embedding_dim=128, sequence_length=40, head_size=16)\n",
    "\n",
    "train_model(model, train_loader, valid_loader, epochs=10, lr=1e-3)"
   ]
  },
  {
   "cell_type": "code",
   "execution_count": 207,
   "metadata": {},
   "outputs": [
    {
     "data": {
      "text/plain": [
       "'[C@@])43[C][C])#[S@+]C4'"
      ]
     },
     "execution_count": 207,
     "metadata": {},
     "output_type": "execute_result"
    }
   ],
   "source": [
    "a = torch.tensor([[4]])\n",
    "a = a.to(device)\n",
    "generation = model.generate(a, max_new_tokens=10).cpu().numpy()\n",
    "tokenizer.decode(generation[0])"
   ]
  },
  {
   "cell_type": "markdown",
   "metadata": {},
   "source": [
    "## Interlude: Additional perspectives on attention"
   ]
  },
  {
   "cell_type": "markdown",
   "metadata": {},
   "source": [
    "### Attention as GNN\n",
    "\n",
    "- In the attention mechanism we learn how different tokens \"communicate\" with each other. If we think of tokens as nodes, attention corresponds to learning the edge weights of a fully connected graph.\n",
    "\n",
    "- The tokens per default have no notion of their position in the sequence. It is basically the communication between sets of vectors.\n",
    "\n",
    "In attentional GNNs, we write for the embeddings: \n",
    "\n",
    "$$\n",
    "\\mathbf{h}_i=\\phi\\left(\\mathbf{x}_i, \\bigoplus_{j \\in \\mathcal{V}} a\\left(\\mathbf{x}_i, \\mathbf{x}_j\\right) \\psi\\left(\\mathbf{x}_j\\right)\\right)\n",
    "$$ \n",
    "\n",
    "where $\\bigoplus$ is a permutation invariant function, e.g., sum or mean over the neighborhood $\\mathcal{V}$. [Does this equation look familiar?](https://petar-v.com/talks/GNN-EEML.pdf)\n",
    "\n",
    "\n",
    "You can find more information [here](https://thegradient.pub/transformers-are-graph-neural-networks/) and [here](https://arxiv.org/pdf/2301.08210.pdf).\n",
    "\n",
    "The main difference is that in the transformer we model a fully connected graph, whereas in GNNs we model a sparse graph (which is an inductive bias). "
   ]
  },
  {
   "cell_type": "markdown",
   "metadata": {},
   "source": [
    "### Attention as Kernel smoothing\n",
    "\n",
    "- Given that we have been introducing the attention mechanism as a way to compute a weighted average of values, the analogy to a kernel is quite natural.\n",
    "\n",
    "To understand this a bit better, let us introduce [kernel smoothing](https://en.wikipedia.org/wiki/Kernel_regression). Again, it is nothing else then a weighted average. In this weighted average, the weights are determined by a kernel function.\n",
    "\n",
    "$$\n",
    "\\sum_{i=1}^n y_i \\frac{K\\left(x_i, x_o\\right)}{\\sum_{j=1}^n K\\left(x_j, x_o\\right)},\n",
    "$$\n",
    "\n",
    "where $(x_1, y_1), \\dots, (x_n, y_n)$ are the training points and $x_o$ is the point at which we want to make a prediction.\n",
    "\n",
    "A common kernel function is the Gaussian kernel:\n",
    "\n",
    "$$\n",
    "K(x, x_o) = \\exp\\left(xx_o\\right)\n",
    "$$\n",
    "\n",
    "where $\\sigma$ is a hyperparameter.\n",
    "\n",
    "We are also free to add weights \n",
    "\n",
    "$$\n",
    "K(x, x_o) = \\exp\\left(\\mathbf{w}_1 x  \\mathbf{w}_2 x_o\\right)\n",
    "$$\n",
    "\n",
    "where $w$ are square weight matrices. For stability, we might divide by the dimensionality of $x$.\n",
    "\n",
    "$$\n",
    "K(x, x_o) = \\exp\\left(\\frac{\\mathbf{w}_1 x  \\mathbf{w}_2 x_o}{\\sqrt{d}}\\right)\n",
    "$$\n",
    "\n",
    "where $d$ is the dimensionality of $x$.\n",
    "\n",
    "Compare this to the attention equation:\n",
    "\n",
    "$$\n",
    "\\text{Attention}(Q, K, V) = \\text{softmax}\\left(\\frac{QK^T}{\\sqrt{d_k}}\\right)V\n",
    "$$\n",
    "\n",
    "where $d_k$ is the dimension of $K$ and $Q$.\n",
    "\n",
    "You can find more information on this perspective [here](http://bactra.org/notebooks/nn-attention-and-transformers.html)."
   ]
  },
  {
   "cell_type": "markdown",
   "metadata": {},
   "source": [
    "## Adding more expressive power with more heads and fully connected layers"
   ]
  },
  {
   "cell_type": "markdown",
   "metadata": {},
   "source": [
    "A very simple way to improve the attention mechanism is to use multiple attention heads.\n",
    "That is we apply the attention mechanism multiple times and then concatenate the results.\n",
    "\n",
    "The intuition behind this is that different attention heads can learn different attention patterns."
   ]
  },
  {
   "cell_type": "code",
   "execution_count": 208,
   "metadata": {},
   "outputs": [],
   "source": [
    "class MultiHeadAttention(nn.Module):\n",
    "    def __init__(self, num_heads, n_embed, block_size, head_size):\n",
    "        super().__init__()\n",
    "        self.heads = nn.ModuleList([Head(n_embed, block_size, head_size) for _ in range(num_heads)])\n",
    "\n",
    "    def forward(self, x):\n",
    "        # x is a tensor of shape (B, T, C)\n",
    "        # we want to compute the attention for each head\n",
    "        # and then concatenate the results\n",
    "        # we will have a tensor of shape (B, T, num_heads * head_size)\n",
    "        # in practice, we might not concatenate but add another dimension\n",
    "        # to the tensors\n",
    "        return torch.cat([head(x) for head in self.heads], dim=-1)"
   ]
  },
  {
   "cell_type": "markdown",
   "metadata": {},
   "source": [
    "Once we let the tokens talk to each other we currently only used one linear layer to map to the outputs. \n",
    "We can expect better performance if we use multiple layers.\n",
    "\n",
    "One typically uses wide linear layers that can more readily be parallelized than deep linear layers."
   ]
  },
  {
   "cell_type": "code",
   "execution_count": 209,
   "metadata": {},
   "outputs": [],
   "source": [
    "class FeedForwardLayer(nn.Module):\n",
    "    def __init__(self, n_embed, hidden):\n",
    "        super().__init__()\n",
    "        self.net = nn.Sequential(\n",
    "            nn.Linear(n_embed, hidden),\n",
    "            nn.ReLU(),# \n",
    "            nn.Linear(hidden, n_embed)\n",
    "        )\n",
    "        \n",
    "    def forward(self, x):\n",
    "        return self.net(x)"
   ]
  },
  {
   "cell_type": "markdown",
   "metadata": {},
   "source": [
    "If we put it together, it looks like this:"
   ]
  },
  {
   "cell_type": "code",
   "execution_count": 210,
   "metadata": {},
   "outputs": [],
   "source": [
    "class SelfAttentionModel(nn.Module):\n",
    "    def __init__(self, vocab_size, embedding_dim, sequence_length=100, head_size=12, num_heads=4):\n",
    "        super().__init__()\n",
    "        # read of the logits of the next token from table\n",
    "        self.token_embedding = nn.Embedding(vocab_size, embedding_dim)\n",
    "        self.positional_embedding = nn.Embedding(sequence_length, embedding_dim)\n",
    "        self.lm_head = nn.Linear(head_size, vocab_size)\n",
    "        self.sequence_length = sequence_length\n",
    "        self.attention = MultiHeadAttention(num_heads, embedding_dim, sequence_length, head_size)\n",
    "        self.feed_forward = FeedForwardLayer(embedding_dim, 4*embedding_dim)\n",
    "\n",
    "    def forward(self, x):\n",
    "        B, T = x.shape\n",
    "        x = self.token_embedding(x)\n",
    "        x += self.positional_embedding(torch.arange(T, device=device))\n",
    "        x = self.attention(x)\n",
    "        x = self.lm_head(x)\n",
    "        return x\n",
    "    \n",
    "    def loss(self, x, y):\n",
    "        # x is a tensor of shape (B, T)\n",
    "        logits = self.forward(x) # (B, T, C)\n",
    "        B, T, C = logits.shape\n",
    "        logits = logits.view(B*T, C)\n",
    "        y = y.view(B*T)\n",
    "        loss = F.cross_entropy(logits, y)\n",
    "        return loss\n",
    "    \n",
    "    def generate(self, x, max_new_tokens=100):\n",
    "        # x is a tensor of shape (B, T)\n",
    "        # we generate max_new_tokens new tokens\n",
    "        new_tokens = []\n",
    "        for _t in range(max_new_tokens):\n",
    "            x_ = x[:, -self.sequence_length:]\n",
    "            logits = self.forward(x_) # (B, T, C)\n",
    "            logits = logits[:, -1, :] # we only care about the last token in Bigram, hence we bow have shape (B, C)\n",
    "            probs = F.softmax(logits, dim=-1) # we generate probabilities for the next token\n",
    "\n",
    "            # torch.multinomial(probs, num_samples=1) returns a tensor of shape (B, 1) \n",
    "            # where each element is the index of the sampled token\n",
    "            next_token = torch.multinomial(probs, num_samples=1)\n",
    "            new_tokens.append(next_token)\n",
    "            x = torch.cat([x, next_token], dim=1)\n",
    "        return x\n",
    "        \n",
    "    "
   ]
  },
  {
   "cell_type": "markdown",
   "metadata": {},
   "source": [
    "## Abstracting transformers into blocks"
   ]
  },
  {
   "cell_type": "markdown",
   "metadata": {},
   "source": [
    "It turns out that we can improve the performance by performing the self-attention and feedforward multiple times. \n",
    "For this, it is useful to extract the reusable parts into a block.\n",
    "\n",
    "However, just making the model deeper can lead to problems with training. \n",
    "To avoid this, we will leverage two tricks: \n",
    "- we will use residual connections: they allow us to \"skip\" over layers. During optimization, there will be a \"shortcut\" to between the input and the output of the block.\n",
    "- we will use layer normalization: it allows us to normalize the activations of a layer\n",
    "- we will add dropout: it allows us to randomly drop activations during training. This can be seen as a form of regularization.\n",
    "\n",
    "We will apply layer norm twice: \n",
    "- once directly on the input\n",
    "- then before we pass the multihead attention output to the feedforward layer"
   ]
  },
  {
   "cell_type": "markdown",
   "metadata": {},
   "source": [
    "Note that [there is some debate](https://magazine.sebastianraschka.com/p/why-the-original-transformer-figure) on where layer norm is optimally placed.\n",
    "\n",
    "<blockquote class=\"twitter-tweet\"><p lang=\"en\" dir=\"ltr\">Fun fact: did you know that the original Attention Is All Your Need transformer figure is wrong? <br><br>It places the layer normalization between the residual blocks, which doesn&#39;t match the code: <a href=\"https://t.co/z1oMLFpmiZ\">https://t.co/z1oMLFpmiZ</a><br><br>PS: This is known as Post-LN Transformer<br><br>1/3 <a href=\"https://t.co/OOvp4FA8Nz\">pic.twitter.com/OOvp4FA8Nz</a></p>&mdash; Sebastian Raschka (@rasbt) <a href=\"https://twitter.com/rasbt/status/1655575611979489282?ref_src=twsrc%5Etfw\">May 8, 2023</a></blockquote> <script async src=\"https://platform.twitter.com/widgets.js\" charset=\"utf-8\"></script>"
   ]
  },
  {
   "cell_type": "code",
   "execution_count": 211,
   "metadata": {},
   "outputs": [],
   "source": [
    "class Block(nn.Module):\n",
    "    \"\"\" Transformer block: communication followed by computation \"\"\"\n",
    "\n",
    "    def __init__(self, n_embd,block_size, n_head):\n",
    "        # n_embd: embedding dimension, n_head: the number of heads we'd like\n",
    "        super().__init__()\n",
    "        head_size = n_embd // n_head\n",
    "        self.sa = MultiHeadAttention(num_heads=n_head, n_embed=n_embd, block_size=block_size, head_size=head_size)\n",
    "        self.ffwd = FeedForwardLayer(n_embd, n_embd*4)\n",
    "        self.ln1 = nn.LayerNorm(n_embd)\n",
    "        self.ln2 = nn.LayerNorm(n_embd)\n",
    "\n",
    "    def forward(self, x):\n",
    "        x = x + self.sa(self.ln1(x)) # residual connection\n",
    "        x = x + self.ffwd(self.ln2(x))\n",
    "        return x"
   ]
  },
  {
   "cell_type": "markdown",
   "metadata": {},
   "source": [
    "An important thing to realize is that a bulk of the parameters is in the `FeedForwardLayer`."
   ]
  },
  {
   "cell_type": "code",
   "execution_count": 212,
   "metadata": {},
   "outputs": [
    {
     "data": {
      "text/plain": [
       "{'sa.heads.0.key.weight': 4096,\n",
       " 'sa.heads.0.query.weight': 4096,\n",
       " 'sa.heads.0.value.weight': 4096,\n",
       " 'sa.heads.1.key.weight': 4096,\n",
       " 'sa.heads.1.query.weight': 4096,\n",
       " 'sa.heads.1.value.weight': 4096,\n",
       " 'sa.heads.2.key.weight': 4096,\n",
       " 'sa.heads.2.query.weight': 4096,\n",
       " 'sa.heads.2.value.weight': 4096,\n",
       " 'sa.heads.3.key.weight': 4096,\n",
       " 'sa.heads.3.query.weight': 4096,\n",
       " 'sa.heads.3.value.weight': 4096,\n",
       " 'ffwd.net.0.weight': 65536,\n",
       " 'ffwd.net.0.bias': 512,\n",
       " 'ffwd.net.2.weight': 65536,\n",
       " 'ffwd.net.2.bias': 128,\n",
       " 'ln1.weight': 128,\n",
       " 'ln1.bias': 128,\n",
       " 'ln2.weight': 128,\n",
       " 'ln2.bias': 128}"
      ]
     },
     "execution_count": 212,
     "metadata": {},
     "output_type": "execute_result"
    }
   ],
   "source": [
    "block = Block(128, 100, 4)\n",
    "get_num_parameters_per_layer(block)"
   ]
  },
  {
   "cell_type": "markdown",
   "metadata": {},
   "source": [
    "<blockquote class=\"twitter-tweet\"><p lang=\"en\" dir=\"ltr\">I fixed the Transformer diagram :D <a href=\"https://t.co/qWnOUjZKut\">pic.twitter.com/qWnOUjZKut</a></p>&mdash; Andrej Karpathy (@karpathy) <a href=\"https://twitter.com/karpathy/status/1658161721251602432?ref_src=twsrc%5Etfw\">May 15, 2023</a></blockquote> <script async src=\"https://platform.twitter.com/widgets.js\" charset=\"utf-8\"></script>\n",
    "\n",
    "![](https://pbs.twimg.com/media/FwL5ROUagAIrsJT?format=jpg&name=medium)"
   ]
  },
  {
   "cell_type": "markdown",
   "metadata": {},
   "source": [
    "With all these \"tricks\" and enhancements of expressivity, we can now build a full GPT."
   ]
  },
  {
   "cell_type": "code",
   "execution_count": 213,
   "metadata": {},
   "outputs": [],
   "source": [
    "class GPT(nn.Module):\n",
    "    def __init__(self, vocab_size, n_embd, block_size, n_head, n_blocks):\n",
    "        super().__init__()\n",
    "        self.tok_emb = nn.Embedding(vocab_size, n_embd)\n",
    "        self.pos_emb = nn.Embedding(block_size, n_embd)\n",
    "        self.layers = nn.Sequential(*[Block(n_embd, block_size, n_head) for _ in range(n_blocks)])\n",
    "        self.head = nn.Linear(n_embd, vocab_size, bias=False)\n",
    "\n",
    "    def forward(self, x):\n",
    "        B, T = x.shape\n",
    "        \n",
    "        x = self.tok_emb(x) + self.pos_emb(torch.arange(T, device=x.device))  # b,tc, batch, time - seqeuence length, embedding dimension\n",
    "        x = self.layers(x)\n",
    "        x = self.head(x)\n",
    "        return x\n",
    "\n",
    "    def loss(self, x, y):\n",
    "        # x is a tensor of shape (B, T)\n",
    "        logits = self.forward(x) # (B, T, C)\n",
    "        B, T, C = logits.shape\n",
    "        logits = logits.view(B*T, C)\n",
    "        y = y.view(B*T)\n",
    "        loss = F.cross_entropy(logits, y)\n",
    "        return loss\n",
    "    \n",
    "\n",
    "    def generate(self, x, max_new_tokens=100):\n",
    "        # x is a tensor of shape (B, T)\n",
    "        # we generate max_new_tokens new tokens\n",
    "        new_tokens = []\n",
    "        for _t in range(max_new_tokens):\n",
    "            x_ = x[:, -self.sequence_length:]\n",
    "            logits = self.forward(x_)\n",
    "            logits = logits[:, -1, :]\n",
    "            probs = F.softmax(logits, dim=-1)\n",
    "            next_token = torch.multinomial(probs, num_samples=1)\n",
    "            new_tokens.append(next_token)\n",
    "            x = torch.cat([x, next_token], dim=1)\n",
    "        return x"
   ]
  },
  {
   "cell_type": "code",
   "execution_count": 214,
   "metadata": {},
   "outputs": [],
   "source": [
    "gpt = GPT(len(tokenizer.tokens), n_embd=128, block_size=50, n_head=4, n_blocks=4)"
   ]
  },
  {
   "cell_type": "code",
   "execution_count": 217,
   "metadata": {},
   "outputs": [
    {
     "data": {
      "text/plain": [
       "744448"
      ]
     },
     "execution_count": 217,
     "metadata": {},
     "output_type": "execute_result"
    }
   ],
   "source": [
    "get_num_parameters(gpt)"
   ]
  },
  {
   "cell_type": "code",
   "execution_count": 220,
   "metadata": {},
   "outputs": [
    {
     "name": "stdout",
     "output_type": "stream",
     "text": [
      "Epoch 0, iter 0, train loss 3.048, val perplexity 26.34293\n",
      "Epoch 0, iter 100, train loss 2.442, val perplexity 11.19862\n",
      "Epoch 0, iter 200, train loss 2.431, val perplexity 11.22287\n",
      "Epoch 0, iter 300, train loss 2.430, val perplexity 11.17869\n",
      "Epoch 0, iter 400, train loss 2.430, val perplexity 11.15958\n",
      "Epoch 0, iter 500, train loss 2.386, val perplexity 11.13009\n",
      "Epoch 0, iter 600, train loss 2.410, val perplexity 11.13796\n",
      "Epoch 0, iter 700, train loss 2.414, val perplexity 11.15734\n",
      "Epoch 0, iter 800, train loss 2.443, val perplexity 11.13092\n",
      "Epoch 0, iter 900, train loss 2.423, val perplexity 11.11167\n",
      "Epoch 0, iter 1000, train loss 2.414, val perplexity 11.14083\n",
      "Epoch 0, iter 1100, train loss 2.387, val perplexity 11.11587\n"
     ]
    }
   ],
   "source": [
    "train_model(gpt, train_loader, valid_loader, epochs=10, lr=1e-3)"
   ]
  },
  {
   "cell_type": "code",
   "execution_count": null,
   "metadata": {},
   "outputs": [],
   "source": [
    "generated_list = []\n",
    "for i in range(500):\n",
    "    test_point= test[i][0][:5].unsqueeze(0)\n",
    "    test_point = test_point.to(device)\n",
    "    generated = model.generate(\n",
    "        test_point, \n",
    "        max_new_tokens=40\n",
    "    )\n",
    "    gen = tokenizer.decode(generated[0].cpu().numpy())\n",
    "    generated_list.append(gen)"
   ]
  },
  {
   "cell_type": "markdown",
   "metadata": {},
   "source": [
    "Those SMILES should now look much better!"
   ]
  },
  {
   "cell_type": "markdown",
   "metadata": {},
   "source": [
    "## Summary"
   ]
  },
  {
   "cell_type": "markdown",
   "metadata": {},
   "source": [
    "We saw how to build a GPT to generate new SMILES.\n",
    "We generalized a simple bigram model to take into account all past tokens and not just the last one.\n",
    "When we take the tokens into account, we do this by using self-attention, which allows the model to learn the dependencies between tokens.\n",
    "\n",
    "To further improve the model, we added multiple heads to the self-attention mechanism, which allows the model to learn different dependencies between tokens.\n",
    "Finally, we stacked multiple blocks of self-attention and feedforward layers to create a GPT model."
   ]
  },
  {
   "cell_type": "markdown",
   "metadata": {},
   "source": [
    "## References \n",
    "\n",
    "Much of this discussion (and also the way it is structured, e.g., based on the bigram) is based on the outstanding material created by [Andrej Karpathy](https://karpathy.ai/zero-to-hero.html). In particular, the implementation here follows [nanoGPT](https://github.com/karpathy/nanoGPT).\n",
    "\n",
    "Other useful resources are:\n",
    "\n",
    "- [Annotated transformer](https://nlp.seas.harvard.edu/annotated-transformer/)\n",
    "- [Illustrated transformer](https://jalammar.github.io/illustrated-transformer/)\n",
    "- [Attention! Attention?](https://lilianweng.github.io/posts/2018-06-24-attention/)\n",
    "- [Interactive attention visualization](https://bbycroft.net/llm)\n",
    "- [Simon Prince's book](https://udlbook.github.io/udlbook/) and [blog posts](https://www.borealisai.com/research-blogs/tutorial-14-transformers-i-introduction/) have very nice illustrations of the attention mechanism.\n"
   ]
  },
  {
   "cell_type": "markdown",
   "metadata": {},
   "source": []
  }
 ],
 "metadata": {
  "kernelspec": {
   "display_name": "gpttutorial",
   "language": "python",
   "name": "python3"
  },
  "language_info": {
   "codemirror_mode": {
    "name": "ipython",
    "version": 3
   },
   "file_extension": ".py",
   "mimetype": "text/x-python",
   "name": "python",
   "nbconvert_exporter": "python",
   "pygments_lexer": "ipython3",
   "version": "3.11.9"
  }
 },
 "nbformat": 4,
 "nbformat_minor": 2
}
