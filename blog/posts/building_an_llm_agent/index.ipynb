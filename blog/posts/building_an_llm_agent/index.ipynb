{
 "cells": [
  {
   "cell_type": "markdown",
   "metadata": {},
   "source": [
    "---\n",
    "title: 'Building an LLM agent from scratch'\n",
    "description: <i>Developing an understanding for how LLM-based agents work.</i>\n",
    "image: \"\"\n",
    "sidebar: false\n",
    "categories:\n",
    "  - machine-learning\n",
    "  - llm\n",
    "date: \"5/2/2024\"\n",
    "format:\n",
    "  html:\n",
    "    code-tools: true\n",
    "---\n"
   ]
  },
  {
   "cell_type": "markdown",
   "metadata": {
    "vscode": {
     "languageId": "plaintext"
    }
   },
   "source": [
    "LLM-powered agents have caught a lot of an attention. \n",
    "They are interesting, because they allow us to couple the flexibility of LLMs with the power of robust tools or knowledge bases."
   ]
  },
  {
   "cell_type": "markdown",
   "metadata": {
    "vscode": {
     "languageId": "plaintext"
    }
   },
   "source": [
    "In the chemical sciences, this approach has been popularized by [ChemCrow](https://arxiv.org/abs/2304.05376) and [Coscientist](https://www.nature.com/articles/s41586-023-06792-0).\n",
    "In those systems, the LLMs had access to tools such as reaction planner and a cloud laboratory and, in this way, could plan and perform experiments autonomously."
   ]
  },
  {
   "cell_type": "markdown",
   "metadata": {
    "vscode": {
     "languageId": "plaintext"
    }
   },
   "source": [
    "While it might seem that these systems are very complex, they are are surprisingly simple.\n",
    "Unfortunately, this simplicity is sometimes hidden below layers of abstractions in libraries and frameworks.\n",
    "\n",
    "In this post, we will implement a simple agent from scratch."
   ]
  },
  {
   "cell_type": "markdown",
   "metadata": {
    "vscode": {
     "languageId": "plaintext"
    }
   },
   "source": [
    "## MRKL and ReAct"
   ]
  },
  {
   "cell_type": "markdown",
   "metadata": {
    "vscode": {
     "languageId": "plaintext"
    }
   },
   "source": [
    "One of the most common ways of building LLM powered agents is using the [MRKL](https://arxiv.org/pdf/2205.00445) architecture implemented using the [ReAct](https://arxiv.org/pdf/2210.03629) framework.\n",
    "\n",
    "MRKL describes in a very general way systems that augment LLMs with external knowledge sources and symbolic reasoning. \n",
    "ReAct is a specific prompt that implements MRKL by: \n",
    "\n",
    "- Prompting the model to think \n",
    "- Prompting the model to act \n",
    "- Prompting the model to observe\n",
    "\n",
    "This is inspired by chain-of-thought prompting, which has been shown to be effective in improving the performance of LLMs on a variety of tasks."
   ]
  },
  {
   "cell_type": "markdown",
   "metadata": {
    "vscode": {
     "languageId": "plaintext"
    }
   },
   "source": [
    "## Using the MRKL prompt"
   ]
  },
  {
   "cell_type": "markdown",
   "metadata": {
    "vscode": {
     "languageId": "plaintext"
    }
   },
   "source": [
    "## Beyond hard-coding prompts"
   ]
  },
  {
   "cell_type": "markdown",
   "metadata": {
    "vscode": {
     "languageId": "plaintext"
    }
   },
   "source": [
    "## References\n",
    "\n",
    "- As always, there is an [awesome blogpost by Lilian Weng](https://lilianweng.github.io/posts/2023-06-23-agent/). \n"
   ]
  }
 ],
 "metadata": {
  "language_info": {
   "name": "python"
  }
 },
 "nbformat": 4,
 "nbformat_minor": 2
}
